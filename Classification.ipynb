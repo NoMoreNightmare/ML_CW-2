{
 "cells": [
  {
   "cell_type": "markdown",
   "metadata": {
    "collapsed": false
   },
   "source": [
    "# Load Dataset"
   ]
  },
  {
   "cell_type": "code",
   "execution_count": 1,
   "metadata": {
    "collapsed": false
   },
   "outputs": [
    {
     "data": {
      "text/html": [
       "<div>\n",
       "<style scoped>\n",
       "    .dataframe tbody tr th:only-of-type {\n",
       "        vertical-align: middle;\n",
       "    }\n",
       "\n",
       "    .dataframe tbody tr th {\n",
       "        vertical-align: top;\n",
       "    }\n",
       "\n",
       "    .dataframe thead th {\n",
       "        text-align: right;\n",
       "    }\n",
       "</style>\n",
       "<table border=\"1\" class=\"dataframe\">\n",
       "  <thead>\n",
       "    <tr style=\"text-align: right;\">\n",
       "      <th></th>\n",
       "      <th>ID</th>\n",
       "      <th>pCR (outcome)</th>\n",
       "      <th>RelapseFreeSurvival (outcome)</th>\n",
       "      <th>Age</th>\n",
       "      <th>ER</th>\n",
       "      <th>PgR</th>\n",
       "      <th>HER2</th>\n",
       "      <th>TrippleNegative</th>\n",
       "      <th>ChemoGrade</th>\n",
       "      <th>Proliferation</th>\n",
       "      <th>...</th>\n",
       "      <th>original_glszm_SmallAreaHighGrayLevelEmphasis</th>\n",
       "      <th>original_glszm_SmallAreaLowGrayLevelEmphasis</th>\n",
       "      <th>original_glszm_ZoneEntropy</th>\n",
       "      <th>original_glszm_ZonePercentage</th>\n",
       "      <th>original_glszm_ZoneVariance</th>\n",
       "      <th>original_ngtdm_Busyness</th>\n",
       "      <th>original_ngtdm_Coarseness</th>\n",
       "      <th>original_ngtdm_Complexity</th>\n",
       "      <th>original_ngtdm_Contrast</th>\n",
       "      <th>original_ngtdm_Strength</th>\n",
       "    </tr>\n",
       "  </thead>\n",
       "  <tbody>\n",
       "    <tr>\n",
       "      <th>0</th>\n",
       "      <td>TRG002174</td>\n",
       "      <td>1</td>\n",
       "      <td>144.000000</td>\n",
       "      <td>41.0</td>\n",
       "      <td>0</td>\n",
       "      <td>0</td>\n",
       "      <td>0</td>\n",
       "      <td>1</td>\n",
       "      <td>3</td>\n",
       "      <td>3</td>\n",
       "      <td>...</td>\n",
       "      <td>0.517172</td>\n",
       "      <td>0.375126</td>\n",
       "      <td>3.325332</td>\n",
       "      <td>0.002314</td>\n",
       "      <td>3.880772e+06</td>\n",
       "      <td>473.464852</td>\n",
       "      <td>0.000768</td>\n",
       "      <td>0.182615</td>\n",
       "      <td>0.030508</td>\n",
       "      <td>0.000758</td>\n",
       "    </tr>\n",
       "    <tr>\n",
       "      <th>1</th>\n",
       "      <td>TRG002178</td>\n",
       "      <td>0</td>\n",
       "      <td>142.000000</td>\n",
       "      <td>39.0</td>\n",
       "      <td>1</td>\n",
       "      <td>1</td>\n",
       "      <td>0</td>\n",
       "      <td>0</td>\n",
       "      <td>3</td>\n",
       "      <td>3</td>\n",
       "      <td>...</td>\n",
       "      <td>0.444391</td>\n",
       "      <td>0.444391</td>\n",
       "      <td>3.032144</td>\n",
       "      <td>0.005612</td>\n",
       "      <td>2.372010e+06</td>\n",
       "      <td>59.459710</td>\n",
       "      <td>0.004383</td>\n",
       "      <td>0.032012</td>\n",
       "      <td>0.001006</td>\n",
       "      <td>0.003685</td>\n",
       "    </tr>\n",
       "    <tr>\n",
       "      <th>2</th>\n",
       "      <td>TRG002204</td>\n",
       "      <td>1</td>\n",
       "      <td>135.000000</td>\n",
       "      <td>31.0</td>\n",
       "      <td>0</td>\n",
       "      <td>0</td>\n",
       "      <td>0</td>\n",
       "      <td>1</td>\n",
       "      <td>2</td>\n",
       "      <td>1</td>\n",
       "      <td>...</td>\n",
       "      <td>0.534549</td>\n",
       "      <td>0.534549</td>\n",
       "      <td>2.485848</td>\n",
       "      <td>0.006752</td>\n",
       "      <td>1.540027e+06</td>\n",
       "      <td>33.935384</td>\n",
       "      <td>0.007584</td>\n",
       "      <td>0.024062</td>\n",
       "      <td>0.000529</td>\n",
       "      <td>0.006447</td>\n",
       "    </tr>\n",
       "    <tr>\n",
       "      <th>3</th>\n",
       "      <td>TRG002206</td>\n",
       "      <td>0</td>\n",
       "      <td>12.000000</td>\n",
       "      <td>35.0</td>\n",
       "      <td>0</td>\n",
       "      <td>0</td>\n",
       "      <td>0</td>\n",
       "      <td>1</td>\n",
       "      <td>3</td>\n",
       "      <td>3</td>\n",
       "      <td>...</td>\n",
       "      <td>0.506185</td>\n",
       "      <td>0.506185</td>\n",
       "      <td>2.606255</td>\n",
       "      <td>0.003755</td>\n",
       "      <td>6.936741e+06</td>\n",
       "      <td>46.859265</td>\n",
       "      <td>0.005424</td>\n",
       "      <td>0.013707</td>\n",
       "      <td>0.000178</td>\n",
       "      <td>0.004543</td>\n",
       "    </tr>\n",
       "    <tr>\n",
       "      <th>4</th>\n",
       "      <td>TRG002210</td>\n",
       "      <td>0</td>\n",
       "      <td>109.000000</td>\n",
       "      <td>61.0</td>\n",
       "      <td>1</td>\n",
       "      <td>0</td>\n",
       "      <td>0</td>\n",
       "      <td>0</td>\n",
       "      <td>2</td>\n",
       "      <td>1</td>\n",
       "      <td>...</td>\n",
       "      <td>0.462282</td>\n",
       "      <td>0.462282</td>\n",
       "      <td>2.809279</td>\n",
       "      <td>0.006521</td>\n",
       "      <td>1.265399e+06</td>\n",
       "      <td>39.621023</td>\n",
       "      <td>0.006585</td>\n",
       "      <td>0.034148</td>\n",
       "      <td>0.001083</td>\n",
       "      <td>0.005626</td>\n",
       "    </tr>\n",
       "    <tr>\n",
       "      <th>...</th>\n",
       "      <td>...</td>\n",
       "      <td>...</td>\n",
       "      <td>...</td>\n",
       "      <td>...</td>\n",
       "      <td>...</td>\n",
       "      <td>...</td>\n",
       "      <td>...</td>\n",
       "      <td>...</td>\n",
       "      <td>...</td>\n",
       "      <td>...</td>\n",
       "      <td>...</td>\n",
       "      <td>...</td>\n",
       "      <td>...</td>\n",
       "      <td>...</td>\n",
       "      <td>...</td>\n",
       "      <td>...</td>\n",
       "      <td>...</td>\n",
       "      <td>...</td>\n",
       "      <td>...</td>\n",
       "      <td>...</td>\n",
       "      <td>...</td>\n",
       "    </tr>\n",
       "    <tr>\n",
       "      <th>395</th>\n",
       "      <td>TRG002955</td>\n",
       "      <td>1</td>\n",
       "      <td>49.250000</td>\n",
       "      <td>46.1</td>\n",
       "      <td>0</td>\n",
       "      <td>0</td>\n",
       "      <td>0</td>\n",
       "      <td>1</td>\n",
       "      <td>3</td>\n",
       "      <td>3</td>\n",
       "      <td>...</td>\n",
       "      <td>0.439568</td>\n",
       "      <td>0.439568</td>\n",
       "      <td>3.056046</td>\n",
       "      <td>0.001339</td>\n",
       "      <td>1.671271e+07</td>\n",
       "      <td>79.989003</td>\n",
       "      <td>0.003282</td>\n",
       "      <td>0.024716</td>\n",
       "      <td>0.000812</td>\n",
       "      <td>0.003078</td>\n",
       "    </tr>\n",
       "    <tr>\n",
       "      <th>396</th>\n",
       "      <td>TRG002958</td>\n",
       "      <td>0</td>\n",
       "      <td>48.500000</td>\n",
       "      <td>53.3</td>\n",
       "      <td>0</td>\n",
       "      <td>0</td>\n",
       "      <td>0</td>\n",
       "      <td>1</td>\n",
       "      <td>2</td>\n",
       "      <td>1</td>\n",
       "      <td>...</td>\n",
       "      <td>0.527779</td>\n",
       "      <td>0.527778</td>\n",
       "      <td>1.500000</td>\n",
       "      <td>0.003728</td>\n",
       "      <td>2.132007e+05</td>\n",
       "      <td>0.996746</td>\n",
       "      <td>0.252582</td>\n",
       "      <td>0.007380</td>\n",
       "      <td>0.000037</td>\n",
       "      <td>0.231059</td>\n",
       "    </tr>\n",
       "    <tr>\n",
       "      <th>397</th>\n",
       "      <td>TRG002961</td>\n",
       "      <td>0</td>\n",
       "      <td>47.500000</td>\n",
       "      <td>68.8</td>\n",
       "      <td>1</td>\n",
       "      <td>0</td>\n",
       "      <td>0</td>\n",
       "      <td>0</td>\n",
       "      <td>3</td>\n",
       "      <td>3</td>\n",
       "      <td>...</td>\n",
       "      <td>0.313693</td>\n",
       "      <td>0.313693</td>\n",
       "      <td>3.573557</td>\n",
       "      <td>0.001112</td>\n",
       "      <td>2.008034e+07</td>\n",
       "      <td>204.864200</td>\n",
       "      <td>0.001372</td>\n",
       "      <td>0.054063</td>\n",
       "      <td>0.003697</td>\n",
       "      <td>0.001368</td>\n",
       "    </tr>\n",
       "    <tr>\n",
       "      <th>398</th>\n",
       "      <td>TRG002962</td>\n",
       "      <td>0</td>\n",
       "      <td>46.916667</td>\n",
       "      <td>46.0</td>\n",
       "      <td>1</td>\n",
       "      <td>0</td>\n",
       "      <td>0</td>\n",
       "      <td>0</td>\n",
       "      <td>2</td>\n",
       "      <td>1</td>\n",
       "      <td>...</td>\n",
       "      <td>0.670229</td>\n",
       "      <td>0.670229</td>\n",
       "      <td>1.857045</td>\n",
       "      <td>0.006706</td>\n",
       "      <td>5.609262e+05</td>\n",
       "      <td>9.609163</td>\n",
       "      <td>0.026591</td>\n",
       "      <td>0.018682</td>\n",
       "      <td>0.000311</td>\n",
       "      <td>0.022676</td>\n",
       "    </tr>\n",
       "    <tr>\n",
       "      <th>399</th>\n",
       "      <td>TRG002963</td>\n",
       "      <td>1</td>\n",
       "      <td>46.750000</td>\n",
       "      <td>55.3</td>\n",
       "      <td>0</td>\n",
       "      <td>0</td>\n",
       "      <td>1</td>\n",
       "      <td>0</td>\n",
       "      <td>2</td>\n",
       "      <td>1</td>\n",
       "      <td>...</td>\n",
       "      <td>0.552491</td>\n",
       "      <td>0.552491</td>\n",
       "      <td>2.671677</td>\n",
       "      <td>0.005390</td>\n",
       "      <td>1.570529e+06</td>\n",
       "      <td>72.281874</td>\n",
       "      <td>0.003759</td>\n",
       "      <td>0.055151</td>\n",
       "      <td>0.003054</td>\n",
       "      <td>0.003425</td>\n",
       "    </tr>\n",
       "  </tbody>\n",
       "</table>\n",
       "<p>395 rows × 120 columns</p>\n",
       "</div>"
      ],
      "text/plain": [
       "            ID  pCR (outcome)  RelapseFreeSurvival (outcome)   Age  ER  PgR  \\\n",
       "0    TRG002174              1                     144.000000  41.0   0    0   \n",
       "1    TRG002178              0                     142.000000  39.0   1    1   \n",
       "2    TRG002204              1                     135.000000  31.0   0    0   \n",
       "3    TRG002206              0                      12.000000  35.0   0    0   \n",
       "4    TRG002210              0                     109.000000  61.0   1    0   \n",
       "..         ...            ...                            ...   ...  ..  ...   \n",
       "395  TRG002955              1                      49.250000  46.1   0    0   \n",
       "396  TRG002958              0                      48.500000  53.3   0    0   \n",
       "397  TRG002961              0                      47.500000  68.8   1    0   \n",
       "398  TRG002962              0                      46.916667  46.0   1    0   \n",
       "399  TRG002963              1                      46.750000  55.3   0    0   \n",
       "\n",
       "     HER2  TrippleNegative  ChemoGrade  Proliferation  ...  \\\n",
       "0       0                1           3              3  ...   \n",
       "1       0                0           3              3  ...   \n",
       "2       0                1           2              1  ...   \n",
       "3       0                1           3              3  ...   \n",
       "4       0                0           2              1  ...   \n",
       "..    ...              ...         ...            ...  ...   \n",
       "395     0                1           3              3  ...   \n",
       "396     0                1           2              1  ...   \n",
       "397     0                0           3              3  ...   \n",
       "398     0                0           2              1  ...   \n",
       "399     1                0           2              1  ...   \n",
       "\n",
       "     original_glszm_SmallAreaHighGrayLevelEmphasis  \\\n",
       "0                                         0.517172   \n",
       "1                                         0.444391   \n",
       "2                                         0.534549   \n",
       "3                                         0.506185   \n",
       "4                                         0.462282   \n",
       "..                                             ...   \n",
       "395                                       0.439568   \n",
       "396                                       0.527779   \n",
       "397                                       0.313693   \n",
       "398                                       0.670229   \n",
       "399                                       0.552491   \n",
       "\n",
       "     original_glszm_SmallAreaLowGrayLevelEmphasis  original_glszm_ZoneEntropy  \\\n",
       "0                                        0.375126                    3.325332   \n",
       "1                                        0.444391                    3.032144   \n",
       "2                                        0.534549                    2.485848   \n",
       "3                                        0.506185                    2.606255   \n",
       "4                                        0.462282                    2.809279   \n",
       "..                                            ...                         ...   \n",
       "395                                      0.439568                    3.056046   \n",
       "396                                      0.527778                    1.500000   \n",
       "397                                      0.313693                    3.573557   \n",
       "398                                      0.670229                    1.857045   \n",
       "399                                      0.552491                    2.671677   \n",
       "\n",
       "     original_glszm_ZonePercentage  original_glszm_ZoneVariance  \\\n",
       "0                         0.002314                 3.880772e+06   \n",
       "1                         0.005612                 2.372010e+06   \n",
       "2                         0.006752                 1.540027e+06   \n",
       "3                         0.003755                 6.936741e+06   \n",
       "4                         0.006521                 1.265399e+06   \n",
       "..                             ...                          ...   \n",
       "395                       0.001339                 1.671271e+07   \n",
       "396                       0.003728                 2.132007e+05   \n",
       "397                       0.001112                 2.008034e+07   \n",
       "398                       0.006706                 5.609262e+05   \n",
       "399                       0.005390                 1.570529e+06   \n",
       "\n",
       "     original_ngtdm_Busyness  original_ngtdm_Coarseness  \\\n",
       "0                 473.464852                   0.000768   \n",
       "1                  59.459710                   0.004383   \n",
       "2                  33.935384                   0.007584   \n",
       "3                  46.859265                   0.005424   \n",
       "4                  39.621023                   0.006585   \n",
       "..                       ...                        ...   \n",
       "395                79.989003                   0.003282   \n",
       "396                 0.996746                   0.252582   \n",
       "397               204.864200                   0.001372   \n",
       "398                 9.609163                   0.026591   \n",
       "399                72.281874                   0.003759   \n",
       "\n",
       "     original_ngtdm_Complexity  original_ngtdm_Contrast  \\\n",
       "0                     0.182615                 0.030508   \n",
       "1                     0.032012                 0.001006   \n",
       "2                     0.024062                 0.000529   \n",
       "3                     0.013707                 0.000178   \n",
       "4                     0.034148                 0.001083   \n",
       "..                         ...                      ...   \n",
       "395                   0.024716                 0.000812   \n",
       "396                   0.007380                 0.000037   \n",
       "397                   0.054063                 0.003697   \n",
       "398                   0.018682                 0.000311   \n",
       "399                   0.055151                 0.003054   \n",
       "\n",
       "     original_ngtdm_Strength  \n",
       "0                   0.000758  \n",
       "1                   0.003685  \n",
       "2                   0.006447  \n",
       "3                   0.004543  \n",
       "4                   0.005626  \n",
       "..                       ...  \n",
       "395                 0.003078  \n",
       "396                 0.231059  \n",
       "397                 0.001368  \n",
       "398                 0.022676  \n",
       "399                 0.003425  \n",
       "\n",
       "[395 rows x 120 columns]"
      ]
     },
     "execution_count": 1,
     "metadata": {},
     "output_type": "execute_result"
    }
   ],
   "source": [
    "import matplotlib.pyplot as plt\n",
    "import numpy as np\n",
    "import pandas as pd\n",
    "from sklearn.model_selection import train_test_split\n",
    "dataset=pd.read_excel(\"Data/trainDataset.xls\")\n",
    "dataset=dataset[dataset[\"pCR (outcome)\"]!=999]\n",
    "dataset.head(len(dataset))"
   ]
  },
  {
   "cell_type": "markdown",
   "metadata": {
    "collapsed": false
   },
   "source": [
    "# Data Preprocessing"
   ]
  },
  {
   "cell_type": "markdown",
   "metadata": {
    "collapsed": false
   },
   "source": [
    "### Removing duplicate"
   ]
  },
  {
   "cell_type": "code",
   "execution_count": 2,
   "metadata": {
    "collapsed": false
   },
   "outputs": [],
   "source": [
    "dataset.drop_duplicates(inplace=True) #because with 119 features, it is unlikely that exact same data happens in real world, it is useless for training and testing; hence remove it before dataset split"
   ]
  },
  {
   "cell_type": "markdown",
   "metadata": {
    "collapsed": false
   },
   "source": [
    "### Split Dataset"
   ]
  },
  {
   "cell_type": "code",
   "execution_count": 3,
   "metadata": {
    "collapsed": false
   },
   "outputs": [
    {
     "data": {
      "text/plain": [
       "0    299\n",
       "1     96\n",
       "Name: pCR (outcome), dtype: int64"
      ]
     },
     "execution_count": 3,
     "metadata": {},
     "output_type": "execute_result"
    }
   ],
   "source": [
    "dataset['pCR (outcome)'].value_counts()"
   ]
  },
  {
   "cell_type": "code",
   "execution_count": 4,
   "metadata": {
    "collapsed": false
   },
   "outputs": [],
   "source": [
    "y=dataset['pCR (outcome)']\n",
    "X=dataset.drop(['pCR (outcome)','RelapseFreeSurvival (outcome)'],axis=1)\n",
    "\n",
    "X_train,X_test,y_train,y_test=train_test_split(X,y,test_size=0.2,stratify=y,random_state=2)"
   ]
  },
  {
   "cell_type": "markdown",
   "metadata": {
    "collapsed": false
   },
   "source": [
    "### drop columns that are not applicable"
   ]
  },
  {
   "cell_type": "code",
   "execution_count": 5,
   "metadata": {
    "collapsed": false
   },
   "outputs": [],
   "source": [
    "class columnDropperTransformer(): #https://stackoverflow.com/questions/68402691/adding-dropping-column-instance-into-a-pipeline\n",
    "    def __init__(self,columns):\n",
    "        self.columns=columns\n",
    "\n",
    "    def fit(self,X,y=None):\n",
    "        return self\n",
    "\n",
    "    def transform(self,X,y=None):\n",
    "        return X.drop(self.columns,axis=1)\n",
    "\n",
    "    def fit_transform(self,X,y=None):\n",
    "        return X.drop(self.columns,axis=1)\n"
   ]
  },
  {
   "cell_type": "markdown",
   "metadata": {
    "collapsed": false
   },
   "source": [
    "### missing data"
   ]
  },
  {
   "cell_type": "code",
   "execution_count": 6,
   "metadata": {
    "collapsed": false
   },
   "outputs": [
    {
     "data": {
      "text/plain": [
       "ID                               0\n",
       "pCR (outcome)                    0\n",
       "RelapseFreeSurvival (outcome)    0\n",
       "Age                              0\n",
       "ER                               0\n",
       "                                ..\n",
       "original_ngtdm_Busyness          0\n",
       "original_ngtdm_Coarseness        0\n",
       "original_ngtdm_Complexity        0\n",
       "original_ngtdm_Contrast          0\n",
       "original_ngtdm_Strength          0\n",
       "Length: 120, dtype: int64"
      ]
     },
     "execution_count": 6,
     "metadata": {},
     "output_type": "execute_result"
    }
   ],
   "source": [
    "dataset.isnull().sum()"
   ]
  },
  {
   "cell_type": "code",
   "execution_count": null,
   "metadata": {
    "collapsed": false
   },
   "outputs": [],
   "source": [
    "# from sklearn.impute import KNNImputer\n",
    "\n",
    "# names=X_train.columns\n",
    "\n",
    "# imp=KNNImputer(missing_values=np.nan,n_neighbors=200)\n",
    "# # X_train[:]=imp.fit_transform(X_train)\n",
    "# # X_test[:]=imp.transform(X_test)\n",
    "# X_train=imp.fit_transform(X_train)\n",
    "# X_test=imp.transform(X_test)\n",
    "\n",
    "# imp.missing_values=np.float64(999)\n",
    "# # X_train[:]=imp.fit_transform(X_train)\n",
    "# # X_test[:]=imp.transform(X_test)\n",
    "# X_train=imp.fit_transform(X_train)\n",
    "# X_test=imp.transform(X_test)"
   ]
  },
  {
   "cell_type": "markdown",
   "metadata": {
    "collapsed": false
   },
   "source": [
    "### Removing outliers"
   ]
  },
  {
   "cell_type": "code",
   "execution_count": 7,
   "metadata": {
    "collapsed": false
   },
   "outputs": [],
   "source": [
    "class outlierHandlingWithDev():\n",
    "    def fit(self,X,y=None):\n",
    "        self.mean=np.zeros(len(X[0]))\n",
    "        self.std=np.zeros(len(X[0]))\n",
    "        for i in range(len(X[0])):\n",
    "            self.mean[i]=X[:,i].mean()\n",
    "            self.std[i]=X[:,i].std()\n",
    "\n",
    "        return self\n",
    "\n",
    "    def transform(self,X,y=None):\n",
    "        for i in range(len(X)):\n",
    "            for j in range(len(X[i])):\n",
    "                if np.abs(X[i][j]-self.mean[j])>3*self.std[j]:\n",
    "                    X[i][j]=999\n",
    "        return X\n",
    "\n",
    "    def fit_transform(self,X,y=None):\n",
    "        self.fit(X,y)\n",
    "        return self.transform(X,y)"
   ]
  },
  {
   "cell_type": "markdown",
   "metadata": {
    "collapsed": false
   },
   "source": [
    "### Binning"
   ]
  },
  {
   "cell_type": "code",
   "execution_count": null,
   "metadata": {
    "collapsed": false
   },
   "outputs": [],
   "source": [
    "# from sklearn.preprocessing import Binarizer\n",
    "# datasetCopy=dataset.iloc[:,3].values.reshape(-1,1)\n",
    "# transformor=Binarizer(threshold=40).fit(datasetCopy)\n",
    "# transformor\n",
    "# x1=transformor.transform(datasetCopy)\n",
    "# dataset.iloc[:,3]=x1\n",
    "# dataset"
   ]
  },
  {
   "cell_type": "code",
   "execution_count": null,
   "metadata": {
    "collapsed": false
   },
   "outputs": [],
   "source": [
    "# datasetCopy=dataset.iloc[:,3].values.reshape(-1,1)\n",
    "# transformor=Binarizer(threshold=40).fit(datasetCopy)\n",
    "# transformor\n",
    "# x1=transformor.transform(datasetCopy)\n",
    "# dataset.iloc[:,3]=x1\n",
    "# dataset"
   ]
  },
  {
   "cell_type": "code",
   "execution_count": null,
   "metadata": {
    "collapsed": false
   },
   "outputs": [],
   "source": [
    "# from sklearn.preprocessing import KBinsDiscretizer\n",
    "# datasetCopy=dataset.iloc[:,3].values.reshape(-1,1)\n",
    "# # 不能导入一维，所以reshape\n",
    "# est = KBinsDiscretizer(n_bins=3, encode='ordinal', strategy='quantile')\n",
    "# est.fit(datasetCopy)\n",
    "# Xt = est.transform(datasetCopy)\n",
    "# set(Xt.ravel())\n",
    "# dataset.iloc[:,3]=Xt\n",
    "# dataset"
   ]
  },
  {
   "cell_type": "code",
   "execution_count": null,
   "metadata": {
    "collapsed": false
   },
   "outputs": [],
   "source": []
  },
  {
   "cell_type": "markdown",
   "metadata": {
    "collapsed": false
   },
   "source": [
    "### MinMaxScaler"
   ]
  },
  {
   "cell_type": "code",
   "execution_count": null,
   "metadata": {
    "collapsed": false
   },
   "outputs": [],
   "source": [
    "# from sklearn.preprocessing import MinMaxScaler\n",
    "# scaler=MinMaxScaler()\n",
    "# X_train[:]=scaler.fit_transform(X_train)\n",
    "# X_test[:]=scaler.transform(X_test)\n",
    "# X_train\n",
    "# from sklearn.preprocessing import StandardScaler\n",
    "# scaler=StandardScaler()\n",
    "# X_train[:]=scaler.fit_transform(X_train)\n",
    "# X_test[:]=scaler.transform(X_test)\n"
   ]
  },
  {
   "cell_type": "markdown",
   "metadata": {
    "collapsed": false
   },
   "source": [
    "### PCA"
   ]
  },
  {
   "cell_type": "code",
   "execution_count": null,
   "metadata": {
    "collapsed": false
   },
   "outputs": [],
   "source": [
    "# corr=X_train.corr()\n",
    "# corr=corr.where(abs(corr)>0.9)\n",
    "# count = 0\n",
    "# corr_fea = []\n",
    "\n",
    "# for i in corr.columns:\n",
    "#     for j in corr.columns:\n",
    "#         if abs(corr[i][j])>0.9 and i!=j:\n",
    "#             if i not in corr_fea:\n",
    "#                 count+=1\n",
    "#                 corr_fea.append(i)\n",
    "\n",
    "#             if j not in corr_fea:\n",
    "#                 count+=1\n",
    "#                 corr_fea.append(j)\n",
    "\n",
    "# count"
   ]
  },
  {
   "cell_type": "code",
   "execution_count": null,
   "metadata": {
    "collapsed": false
   },
   "outputs": [],
   "source": [
    "# def is_related(pair1, pair2):\n",
    "#     if (pair1[0] in pair2 or pair1[1] in pair2) and pair1!=pair2 and not (pair1[0]==pair2[1] and pair1[1]==pair2[0]):\n",
    "#         return True\n",
    "#     return False\n",
    "\n",
    "# def add_relation(corr_fea):\n",
    "#     for i in range(len(corr_fea)):\n",
    "#         for j in range(i,len(corr_fea)):\n",
    "#             if i!=j:\n",
    "#                 if is_related(corr_fea[i],corr_fea[j]):\n",
    "#                     fea1=tuple(set(corr_fea[i])-set(corr_fea[j]))\n",
    "#                     fea2=tuple(set(corr_fea[j])-set(corr_fea[i]))\n",
    "#                     fea=fea1+fea2\n",
    "#                     if fea not in corr_fea and rev(fea) not in corr_fea:\n",
    "#                         corr_fea.append((fea1+fea2))\n",
    "\n",
    "# def rev(fea):\n",
    "#     f1=fea[0]\n",
    "#     f2=fea[1]\n",
    "\n",
    "#     return (f2,f1)\n",
    "\n",
    "# corr=X_train.corr()\n",
    "# corr=corr.where(abs(corr)>0.9)\n",
    "# count=0\n",
    "# corr_fea=[]\n",
    "# for i in corr.columns:\n",
    "#     for j in corr.columns:\n",
    "#         if i!=j and abs(corr[i][j])>0.9 and ((i,j) not in corr_fea) and ((j,i) not in corr_fea):\n",
    "#             count+=1\n",
    "#             corr_fea.append((i,j))\n",
    "#             add_relation(corr_fea)\n"
   ]
  },
  {
   "cell_type": "markdown",
   "metadata": {
    "collapsed": false
   },
   "source": [
    "### Feature Selection"
   ]
  },
  {
   "cell_type": "code",
   "execution_count": null,
   "metadata": {
    "collapsed": false
   },
   "outputs": [],
   "source": []
  },
  {
   "cell_type": "markdown",
   "metadata": {
    "collapsed": false
   },
   "source": [
    "### resample"
   ]
  },
  {
   "cell_type": "code",
   "execution_count": null,
   "metadata": {
    "collapsed": false
   },
   "outputs": [],
   "source": [
    "# from imblearn.over_sampling import SMOTE\n",
    "# from imblearn.combine import SMOTETomek\n",
    "\n",
    "# smote=SMOTETomek()\n",
    "\n",
    "# X_train,y_train=smote.fit_resample(X_train,y=y_train)\n"
   ]
  },
  {
   "cell_type": "code",
   "execution_count": 8,
   "metadata": {},
   "outputs": [],
   "source": [
    "from sklearn.impute import KNNImputer\n",
    "from sklearn.preprocessing import StandardScaler\n",
    "from imblearn.over_sampling import SMOTE\n",
    "from imblearn.combine import SMOTETomek\n",
    "from imblearn.under_sampling import TomekLinks \n",
    "from sklearn.decomposition import PCA\n",
    "from imblearn.pipeline import Pipeline\n",
    "from sklearn.model_selection import GridSearchCV, KFold, cross_val_score\n",
    "from sklearn.ensemble import RandomForestClassifier\n",
    "from sklearn.metrics import classification_report, confusion_matrix\n",
    "\n",
    "para={'imputeNull__n_neighbors':[10,100,200],\n",
    "    'imputeMissing__n_neighbors':[10,100,200],\n",
    "    'imputeOutlier__n_neighbors':[10,100,200],\n",
    "    'pca__n_components':[20,40,60,80],\n",
    "    'resample__smote':[SMOTE(sampling_strategy=0.6),SMOTE(sampling_strategy=0.8),\n",
    "                       SMOTE(sampling_strategy=1.0),SMOTE(sampling_strategy=1.2),\n",
    "                       SMOTE(sampling_strategy=1.4)],\n",
    "    'rf__class_weight':['balanced'],\n",
    "    'rf__max_depth':[10,20,30],\n",
    "    'rf__max_features':[2,3,4,5],\n",
    "    'rf__n_estimators':[100,200,300]\n",
    "}\n",
    "\n",
    "pipe=Pipeline([('drop',columnDropperTransformer(['ID'])),\n",
    "    ('imputeNull',KNNImputer(missing_values=np.nan,n_neighbors=200)),\n",
    "    ('imputeMissing',KNNImputer(missing_values=np.float64(999),n_neighbors=200)),\n",
    "    ('outlier',outlierHandlingWithDev()),\n",
    "    ('imputeOutlier',KNNImputer(missing_values=np.float64(999),n_neighbors=200)),\n",
    "    ('scaler',StandardScaler()),\n",
    "    ('pca',PCA(n_components=60)),\n",
    "    ('resample',SMOTETomek(smote=SMOTE(sampling_strategy=1.0),tomek=TomekLinks())),\n",
    "    ('rf',RandomForestClassifier())\n",
    "])\n",
    "\n",
    "grid=GridSearchCV(pipe,param_grid=para,n_jobs=-1,cv=KFold(n_splits=3))\n",
    "\n",
    "grid.fit(X_train,y_train)\n",
    "print(\"Best parameter (CV score=%0.3f):\" % grid.best_score_)\n",
    "print(grid.best_params_)\n",
    "\n",
    "pipe.fit(X_train,y_train)\n",
    "print(classification_report(y_test,pipe.predict(X_test)))\n",
    "confusion_matrix(y_test,pipe.predict(X_test))\n"
   ]
  },
  {
   "cell_type": "code",
   "execution_count": null,
   "metadata": {},
   "outputs": [],
   "source": [
    "for param in grid.get_params().keys():\n",
    "    print(param)"
   ]
  },
  {
   "cell_type": "markdown",
   "metadata": {
    "collapsed": false
   },
   "source": [
    "# Methods"
   ]
  },
  {
   "cell_type": "code",
   "execution_count": null,
   "metadata": {
    "collapsed": false
   },
   "outputs": [],
   "source": [
    "from sklearn.metrics import classification_report, confusion_matrix\n",
    "from sklearn.neural_network import MLPClassifier\n",
    "from sklearn.model_selection import GridSearchCV, KFold, cross_val_score\n",
    "from sklearn.feature_selection import SequentialFeatureSelector\n",
    "\n",
    "clf=MLPClassifier(hidden_layer_sizes=(20,30),activation=\"relu\",alpha=0.04,max_iter=1000,batch_size=20,random_state=global_seed,early_stopping=True,shuffle=True)\n",
    "score=cross_val_score(clf,X_train,y_train,cv=KFold(n_splits=5,shuffle=True,random_state=global_seed))\n",
    "print(score.mean())\n",
    "\n",
    "clf.fit(X_train,y_train)\n",
    "print(classification_report(y_test,clf.predict(X_test)))\n",
    "confusion_matrix(y_test,clf.predict(X_test))\n",
    "# confusion_matrix(y_train,clf.predict(X_train))\n",
    "# seq.fit(X_train,y_train)\n",
    "# X_train=seq.transform(X_train)\n",
    "# X_test=seq.transform(X_test)\n",
    "# clf.fit(X_train,y_train)\n",
    "# print(classification_report(y_test,clf.predict(X_test)))\n",
    "# confusion_matrix(y_test,clf.predict(X_test))"
   ]
  },
  {
   "cell_type": "code",
   "execution_count": null,
   "metadata": {
    "collapsed": false
   },
   "outputs": [],
   "source": [
    "# from sklearn.metrics import confusion_matrix\n",
    "# from sklearn.tree import  DecisionTreeClassifier\n",
    "# from sklearn.metrics import classification_report\n",
    "# from sklearn.feature_selection import SequentialFeatureSelector\n",
    "# clf=DecisionTreeClassifier(class_weight='balanced',random_state=global_seed)\n",
    "# # clf.fit(X_train,y_train)\n",
    "# # clf.predict(X_test)\n",
    "#\n",
    "# clf.fit(X_train,y_train)\n",
    "#\n",
    "# print(classification_report(y_test,clf.predict(X_test)))\n",
    "# confusion_matrix(y_test,clf.predict(X_test))"
   ]
  },
  {
   "cell_type": "code",
   "execution_count": null,
   "metadata": {
    "collapsed": false
   },
   "outputs": [],
   "source": [
    "from sklearn.metrics import classification_report, confusion_matrix\n",
    "from sklearn.neural_network import MLPClassifier\n",
    "clf=MLPClassifier(hidden_layer_sizes=(23,30),alpha=0.1,activation=\"relu\",max_iter=500,batch_size=20)\n",
    "# cross_val_score(clf,X_train,y_train,cv=3)\n",
    "from sklearn.feature_selection import SequentialFeatureSelector\n",
    "# sfs=SequentialFeatureSelector(clf,n_features_to_select=\"auto\")\n",
    "#\n",
    "clf.fit(X_train,y_train)\n",
    "print(classification_report(y_test,clf.predict(X_test)))\n",
    "confusion_matrix(y_test,clf.predict(X_test))\n",
    "confusion_matrix(y_train,clf.predict(X_train))"
   ]
  },
  {
   "cell_type": "code",
   "execution_count": null,
   "metadata": {
    "collapsed": false
   },
   "outputs": [],
   "source": [
    "from sklearn.svm import SVC\n",
    "clf=SVC(kernel=\"poly\",random_state=global_seed,degree=2)\n",
    "para={'kernel':[\"poly\",\"linear\",\"rbf\"],'degree':[1,2,3,4,5],'class_weight':[{0:1.,1:2.},{0:1.,1:20.},None]}\n",
    "cv=GridSearchCV(clf,param_grid=para,cv=KFold(n_splits=5,random_state=global_seed,shuffle=True))\n",
    "cv.fit(X_train,y_train)\n",
    "print(cv.best_params_)\n",
    "print(confusion_matrix(cv.predict(X_test),y_test))\n",
    "print(classification_report(cv.predict(X_test),y_test))\n",
    "\n",
    "# clf.fit(X_train,y_train)\n",
    "confusion_matrix(y_true=y_train,y_pred=cv.predict(X_train))"
   ]
  },
  {
   "cell_type": "code",
   "execution_count": null,
   "metadata": {
    "collapsed": false
   },
   "outputs": [],
   "source": [
    "from sklearn.neighbors import KNeighborsClassifier\n",
    "\n",
    "clf=KNeighborsClassifier(weights=\"distance\")\n",
    "para={'n_neighbors':[2,3,4,5,6,7,8,9,10,12,15,19]}\n",
    "cv=GridSearchCV(clf,param_grid=para,cv=KFold(n_splits=5,random_state=global_seed,shuffle=True))\n",
    "cv.fit(X_train,y_train)\n",
    "print(confusion_matrix(cv.predict(X_test),y_test))\n",
    "\n",
    "# cv.estimator.fit(X_train,y_train)\n",
    "# confusion_matrix(y_true=y_test,y_pred=clf.predict(X_test))\n",
    "print(classification_report(y_test,cv.predict(X_test)))"
   ]
  },
  {
   "cell_type": "code",
   "execution_count": null,
   "metadata": {
    "collapsed": false
   },
   "outputs": [],
   "source": []
  },
  {
   "cell_type": "code",
   "execution_count": null,
   "metadata": {
    "collapsed": false
   },
   "outputs": [],
   "source": [
    "# from sklearn.utils import class_weight\n",
    "# import tensorflow as tf\n",
    "# from tensorflow import keras\n",
    "# model=keras.Sequential()\n",
    "# model.add(keras.layers.Dense(20,input_dim=len(X_train[0]),activation=\"relu\"))\n",
    "# model.add(keras.layers.Dense(10,activation=\"relu\"))\n",
    "# model.add(keras.layers.Dense(1,activation=\"sigmoid\"))\n",
    "# model.summary()\n",
    "#\n",
    "# model.compile(loss=\"binary_crossentropy\",optimizer=\"adam\",metrics=[tf.keras.metrics.Precision(),\"accuracy\"])\n",
    "# # model.save_weights('model.h5')\n",
    "# # model.load_weights('model.h5')\n",
    "# history=model.fit(X_train,np.array(y_train),epochs=20,validation_data=(X_test,np.array(y_test)),batch_size=20)\n",
    "# y_pred=model.predict(X_test)\n",
    "# loss,precision,acc=model.evaluate(X_test,np.array(y_test),verbose=2)\n",
    "\n"
   ]
  },
  {
   "cell_type": "code",
   "execution_count": null,
   "metadata": {
    "collapsed": false
   },
   "outputs": [],
   "source": []
  }
 ],
 "metadata": {
  "kernelspec": {
   "display_name": "Python 3.7.13 ('mle_tf')",
   "language": "python",
   "name": "python3"
  },
  "language_info": {
   "codemirror_mode": {
    "name": "ipython",
    "version": 3
   },
   "file_extension": ".py",
   "mimetype": "text/x-python",
   "name": "python",
   "nbconvert_exporter": "python",
   "pygments_lexer": "ipython3",
   "version": "3.7.13"
  },
  "orig_nbformat": 4,
  "vscode": {
   "interpreter": {
    "hash": "de28e1e25f48b68b9638a29c8142fb7816a4ec90feebba1cd15c63ff7df4d74f"
   }
  }
 },
 "nbformat": 4,
 "nbformat_minor": 2
}
