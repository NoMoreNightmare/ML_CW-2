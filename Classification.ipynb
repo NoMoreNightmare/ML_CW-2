{
 "cells": [
  {
   "cell_type": "markdown",
   "source": [
    "# Load Dataset"
   ],
   "metadata": {
    "collapsed": false
   }
  },
  {
   "cell_type": "code",
   "execution_count": 17,
   "outputs": [],
   "source": [
    "import pandas as pd"
   ],
   "metadata": {
    "collapsed": false
   }
  },
  {
   "cell_type": "code",
   "execution_count": 27,
   "outputs": [
    {
     "data": {
      "text/plain": "            ID  pCR (outcome)  RelapseFreeSurvival (outcome)   Age  ER  PgR  \\\n0    TRG002174              1                     144.000000  41.0   0  0.0   \n1    TRG002178              0                     142.000000  39.0   1  1.0   \n2    TRG002204              1                     135.000000  31.0   0  0.0   \n3    TRG002206              0                      12.000000  35.0   0  0.0   \n4    TRG002210              0                     109.000000  61.0   1  0.0   \n..         ...            ...                            ...   ...  ..  ...   \n394  TRG002954              0                      49.250000  34.3   0  0.0   \n395  TRG002955              1                      49.250000  46.1   0  0.0   \n396  TRG002958              0                      48.500000  53.3   0  0.0   \n397  TRG002961              0                      47.500000  68.8   1  0.0   \n398  TRG002962              0                      46.916667  46.0   1  0.0   \n\n     HER2  TrippleNegative  ChemoGrade  Proliferation  ...  \\\n0     0.0              1.0           3              3  ...   \n1     0.0              0.0           3              3  ...   \n2     0.0              1.0           2              1  ...   \n3     0.0              1.0           3              3  ...   \n4     0.0              0.0           2              1  ...   \n..    ...              ...         ...            ...  ...   \n394   0.0              1.0           3              3  ...   \n395   0.0              1.0           3              3  ...   \n396   0.0              1.0           2              1  ...   \n397   0.0              0.0           3              3  ...   \n398   0.0              0.0           2              1  ...   \n\n     original_glszm_SmallAreaHighGrayLevelEmphasis  \\\n0                                         0.517172   \n1                                         0.444391   \n2                                         0.534549   \n3                                         0.506185   \n4                                         0.462282   \n..                                             ...   \n394                                       0.418382   \n395                                       0.439568   \n396                                       0.527779   \n397                                       0.313693   \n398                                       0.670229   \n\n     original_glszm_SmallAreaLowGrayLevelEmphasis  original_glszm_ZoneEntropy  \\\n0                                        0.375126                    3.325332   \n1                                        0.444391                    3.032144   \n2                                        0.534549                    2.485848   \n3                                        0.506185                    2.606255   \n4                                        0.462282                    2.809279   \n..                                            ...                         ...   \n394                                      0.418382                    2.995603   \n395                                      0.439568                    3.056046   \n396                                      0.527778                    1.500000   \n397                                      0.313693                    3.573557   \n398                                      0.670229                    1.857045   \n\n     original_glszm_ZonePercentage  original_glszm_ZoneVariance  \\\n0                         0.002314                 3.880772e+06   \n1                         0.005612                 2.372010e+06   \n2                         0.006752                 1.540027e+06   \n3                         0.003755                 6.936741e+06   \n4                         0.006521                 1.265399e+06   \n..                             ...                          ...   \n394                       0.004243                 1.005061e+06   \n395                       0.001339                 1.671271e+07   \n396                       0.003728                 2.132007e+05   \n397                       0.001112                 2.008034e+07   \n398                       0.006706                 5.609262e+05   \n\n     original_ngtdm_Busyness  original_ngtdm_Coarseness  \\\n0                 473.464852                   0.000768   \n1                  59.459710                   0.004383   \n2                  33.935384                   0.007584   \n3                  46.859265                   0.005424   \n4                  39.621023                   0.006585   \n..                       ...                        ...   \n394               156.627179                   0.002228   \n395                79.989003                   0.003282   \n396                 0.996746                   0.252582   \n397               204.864200                   0.001372   \n398                 9.609163                   0.026591   \n\n     original_ngtdm_Complexity  original_ngtdm_Contrast  \\\n0                     0.182615                 0.030508   \n1                     0.032012                 0.001006   \n2                     0.024062                 0.000529   \n3                     0.013707                 0.000178   \n4                     0.034148                 0.001083   \n..                         ...                      ...   \n394                   0.136015                 0.022148   \n395                   0.024716                 0.000812   \n396                   0.007380                 0.000037   \n397                   0.054063                 0.003697   \n398                   0.018682                 0.000311   \n\n     original_ngtdm_Strength  \n0                   0.000758  \n1                   0.003685  \n2                   0.006447  \n3                   0.004543  \n4                   0.005626  \n..                       ...  \n394                 0.002098  \n395                 0.003078  \n396                 0.231059  \n397                 0.001368  \n398                 0.022676  \n\n[399 rows x 120 columns]",
      "text/html": "<div>\n<style scoped>\n    .dataframe tbody tr th:only-of-type {\n        vertical-align: middle;\n    }\n\n    .dataframe tbody tr th {\n        vertical-align: top;\n    }\n\n    .dataframe thead th {\n        text-align: right;\n    }\n</style>\n<table border=\"1\" class=\"dataframe\">\n  <thead>\n    <tr style=\"text-align: right;\">\n      <th></th>\n      <th>ID</th>\n      <th>pCR (outcome)</th>\n      <th>RelapseFreeSurvival (outcome)</th>\n      <th>Age</th>\n      <th>ER</th>\n      <th>PgR</th>\n      <th>HER2</th>\n      <th>TrippleNegative</th>\n      <th>ChemoGrade</th>\n      <th>Proliferation</th>\n      <th>...</th>\n      <th>original_glszm_SmallAreaHighGrayLevelEmphasis</th>\n      <th>original_glszm_SmallAreaLowGrayLevelEmphasis</th>\n      <th>original_glszm_ZoneEntropy</th>\n      <th>original_glszm_ZonePercentage</th>\n      <th>original_glszm_ZoneVariance</th>\n      <th>original_ngtdm_Busyness</th>\n      <th>original_ngtdm_Coarseness</th>\n      <th>original_ngtdm_Complexity</th>\n      <th>original_ngtdm_Contrast</th>\n      <th>original_ngtdm_Strength</th>\n    </tr>\n  </thead>\n  <tbody>\n    <tr>\n      <th>0</th>\n      <td>TRG002174</td>\n      <td>1</td>\n      <td>144.000000</td>\n      <td>41.0</td>\n      <td>0</td>\n      <td>0.0</td>\n      <td>0.0</td>\n      <td>1.0</td>\n      <td>3</td>\n      <td>3</td>\n      <td>...</td>\n      <td>0.517172</td>\n      <td>0.375126</td>\n      <td>3.325332</td>\n      <td>0.002314</td>\n      <td>3.880772e+06</td>\n      <td>473.464852</td>\n      <td>0.000768</td>\n      <td>0.182615</td>\n      <td>0.030508</td>\n      <td>0.000758</td>\n    </tr>\n    <tr>\n      <th>1</th>\n      <td>TRG002178</td>\n      <td>0</td>\n      <td>142.000000</td>\n      <td>39.0</td>\n      <td>1</td>\n      <td>1.0</td>\n      <td>0.0</td>\n      <td>0.0</td>\n      <td>3</td>\n      <td>3</td>\n      <td>...</td>\n      <td>0.444391</td>\n      <td>0.444391</td>\n      <td>3.032144</td>\n      <td>0.005612</td>\n      <td>2.372010e+06</td>\n      <td>59.459710</td>\n      <td>0.004383</td>\n      <td>0.032012</td>\n      <td>0.001006</td>\n      <td>0.003685</td>\n    </tr>\n    <tr>\n      <th>2</th>\n      <td>TRG002204</td>\n      <td>1</td>\n      <td>135.000000</td>\n      <td>31.0</td>\n      <td>0</td>\n      <td>0.0</td>\n      <td>0.0</td>\n      <td>1.0</td>\n      <td>2</td>\n      <td>1</td>\n      <td>...</td>\n      <td>0.534549</td>\n      <td>0.534549</td>\n      <td>2.485848</td>\n      <td>0.006752</td>\n      <td>1.540027e+06</td>\n      <td>33.935384</td>\n      <td>0.007584</td>\n      <td>0.024062</td>\n      <td>0.000529</td>\n      <td>0.006447</td>\n    </tr>\n    <tr>\n      <th>3</th>\n      <td>TRG002206</td>\n      <td>0</td>\n      <td>12.000000</td>\n      <td>35.0</td>\n      <td>0</td>\n      <td>0.0</td>\n      <td>0.0</td>\n      <td>1.0</td>\n      <td>3</td>\n      <td>3</td>\n      <td>...</td>\n      <td>0.506185</td>\n      <td>0.506185</td>\n      <td>2.606255</td>\n      <td>0.003755</td>\n      <td>6.936741e+06</td>\n      <td>46.859265</td>\n      <td>0.005424</td>\n      <td>0.013707</td>\n      <td>0.000178</td>\n      <td>0.004543</td>\n    </tr>\n    <tr>\n      <th>4</th>\n      <td>TRG002210</td>\n      <td>0</td>\n      <td>109.000000</td>\n      <td>61.0</td>\n      <td>1</td>\n      <td>0.0</td>\n      <td>0.0</td>\n      <td>0.0</td>\n      <td>2</td>\n      <td>1</td>\n      <td>...</td>\n      <td>0.462282</td>\n      <td>0.462282</td>\n      <td>2.809279</td>\n      <td>0.006521</td>\n      <td>1.265399e+06</td>\n      <td>39.621023</td>\n      <td>0.006585</td>\n      <td>0.034148</td>\n      <td>0.001083</td>\n      <td>0.005626</td>\n    </tr>\n    <tr>\n      <th>...</th>\n      <td>...</td>\n      <td>...</td>\n      <td>...</td>\n      <td>...</td>\n      <td>...</td>\n      <td>...</td>\n      <td>...</td>\n      <td>...</td>\n      <td>...</td>\n      <td>...</td>\n      <td>...</td>\n      <td>...</td>\n      <td>...</td>\n      <td>...</td>\n      <td>...</td>\n      <td>...</td>\n      <td>...</td>\n      <td>...</td>\n      <td>...</td>\n      <td>...</td>\n      <td>...</td>\n    </tr>\n    <tr>\n      <th>394</th>\n      <td>TRG002954</td>\n      <td>0</td>\n      <td>49.250000</td>\n      <td>34.3</td>\n      <td>0</td>\n      <td>0.0</td>\n      <td>0.0</td>\n      <td>1.0</td>\n      <td>3</td>\n      <td>3</td>\n      <td>...</td>\n      <td>0.418382</td>\n      <td>0.418382</td>\n      <td>2.995603</td>\n      <td>0.004243</td>\n      <td>1.005061e+06</td>\n      <td>156.627179</td>\n      <td>0.002228</td>\n      <td>0.136015</td>\n      <td>0.022148</td>\n      <td>0.002098</td>\n    </tr>\n    <tr>\n      <th>395</th>\n      <td>TRG002955</td>\n      <td>1</td>\n      <td>49.250000</td>\n      <td>46.1</td>\n      <td>0</td>\n      <td>0.0</td>\n      <td>0.0</td>\n      <td>1.0</td>\n      <td>3</td>\n      <td>3</td>\n      <td>...</td>\n      <td>0.439568</td>\n      <td>0.439568</td>\n      <td>3.056046</td>\n      <td>0.001339</td>\n      <td>1.671271e+07</td>\n      <td>79.989003</td>\n      <td>0.003282</td>\n      <td>0.024716</td>\n      <td>0.000812</td>\n      <td>0.003078</td>\n    </tr>\n    <tr>\n      <th>396</th>\n      <td>TRG002958</td>\n      <td>0</td>\n      <td>48.500000</td>\n      <td>53.3</td>\n      <td>0</td>\n      <td>0.0</td>\n      <td>0.0</td>\n      <td>1.0</td>\n      <td>2</td>\n      <td>1</td>\n      <td>...</td>\n      <td>0.527779</td>\n      <td>0.527778</td>\n      <td>1.500000</td>\n      <td>0.003728</td>\n      <td>2.132007e+05</td>\n      <td>0.996746</td>\n      <td>0.252582</td>\n      <td>0.007380</td>\n      <td>0.000037</td>\n      <td>0.231059</td>\n    </tr>\n    <tr>\n      <th>397</th>\n      <td>TRG002961</td>\n      <td>0</td>\n      <td>47.500000</td>\n      <td>68.8</td>\n      <td>1</td>\n      <td>0.0</td>\n      <td>0.0</td>\n      <td>0.0</td>\n      <td>3</td>\n      <td>3</td>\n      <td>...</td>\n      <td>0.313693</td>\n      <td>0.313693</td>\n      <td>3.573557</td>\n      <td>0.001112</td>\n      <td>2.008034e+07</td>\n      <td>204.864200</td>\n      <td>0.001372</td>\n      <td>0.054063</td>\n      <td>0.003697</td>\n      <td>0.001368</td>\n    </tr>\n    <tr>\n      <th>398</th>\n      <td>TRG002962</td>\n      <td>0</td>\n      <td>46.916667</td>\n      <td>46.0</td>\n      <td>1</td>\n      <td>0.0</td>\n      <td>0.0</td>\n      <td>0.0</td>\n      <td>2</td>\n      <td>1</td>\n      <td>...</td>\n      <td>0.670229</td>\n      <td>0.670229</td>\n      <td>1.857045</td>\n      <td>0.006706</td>\n      <td>5.609262e+05</td>\n      <td>9.609163</td>\n      <td>0.026591</td>\n      <td>0.018682</td>\n      <td>0.000311</td>\n      <td>0.022676</td>\n    </tr>\n  </tbody>\n</table>\n<p>399 rows × 120 columns</p>\n</div>"
     },
     "execution_count": 27,
     "metadata": {},
     "output_type": "execute_result"
    }
   ],
   "source": [
    "dataset=pd.read_excel(\"C:/Users/10253/Desktop/ML-CW-2/Data/trainDataset.xls\",index_col=False)\n",
    "dataset.head(len(dataset)-1)"
   ],
   "metadata": {
    "collapsed": false
   }
  },
  {
   "cell_type": "markdown",
   "source": [
    "# Feature Preprocession"
   ],
   "metadata": {
    "collapsed": false
   }
  },
  {
   "cell_type": "code",
   "execution_count": null,
   "outputs": [],
   "source": [],
   "metadata": {
    "collapsed": false
   }
  },
  {
   "cell_type": "markdown",
   "source": [
    "# Methods"
   ],
   "metadata": {
    "collapsed": false
   }
  },
  {
   "cell_type": "code",
   "execution_count": null,
   "outputs": [],
   "source": [],
   "metadata": {
    "collapsed": false
   }
  }
 ],
 "metadata": {
  "kernelspec": {
   "display_name": "Python 3.7.13 ('mle_tf')",
   "language": "python",
   "name": "python3"
  },
  "language_info": {
   "name": "python",
   "version": "3.7.13"
  },
  "orig_nbformat": 4,
  "vscode": {
   "interpreter": {
    "hash": "059a28f6b8501a3f1855ad600b68ec92fe1ad87b13ae8c63d8d57e238add6b4b"
   }
  }
 },
 "nbformat": 4,
 "nbformat_minor": 2
}
