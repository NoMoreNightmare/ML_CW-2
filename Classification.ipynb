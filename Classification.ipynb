{
 "cells": [
  {
   "cell_type": "markdown",
   "source": [
    "# Load Dataset"
   ],
   "metadata": {
    "collapsed": false
   }
  },
  {
   "cell_type": "code",
   "execution_count": 33,
   "outputs": [
    {
     "data": {
      "text/plain": "            ID  pCR (outcome)  RelapseFreeSurvival (outcome)   Age  ER  PgR  \\\n0    TRG002174              1                     144.000000  41.0   0  0.0   \n1    TRG002178              0                     142.000000  39.0   1  1.0   \n2    TRG002204              1                     135.000000  31.0   0  0.0   \n3    TRG002206              0                      12.000000  35.0   0  0.0   \n4    TRG002210              0                     109.000000  61.0   1  0.0   \n..         ...            ...                            ...   ...  ..  ...   \n394  TRG002954              0                      49.250000  34.3   0  0.0   \n395  TRG002955              1                      49.250000  46.1   0  0.0   \n396  TRG002958              0                      48.500000  53.3   0  0.0   \n397  TRG002961              0                      47.500000  68.8   1  0.0   \n398  TRG002962              0                      46.916667  46.0   1  0.0   \n\n     HER2  TrippleNegative  ChemoGrade  Proliferation  ...  \\\n0     0.0              1.0           3              3  ...   \n1     0.0              0.0           3              3  ...   \n2     0.0              1.0           2              1  ...   \n3     0.0              1.0           3              3  ...   \n4     0.0              0.0           2              1  ...   \n..    ...              ...         ...            ...  ...   \n394   0.0              1.0           3              3  ...   \n395   0.0              1.0           3              3  ...   \n396   0.0              1.0           2              1  ...   \n397   0.0              0.0           3              3  ...   \n398   0.0              0.0           2              1  ...   \n\n     original_glszm_SmallAreaHighGrayLevelEmphasis  \\\n0                                         0.517172   \n1                                         0.444391   \n2                                         0.534549   \n3                                         0.506185   \n4                                         0.462282   \n..                                             ...   \n394                                       0.418382   \n395                                       0.439568   \n396                                       0.527779   \n397                                       0.313693   \n398                                       0.670229   \n\n     original_glszm_SmallAreaLowGrayLevelEmphasis  original_glszm_ZoneEntropy  \\\n0                                        0.375126                    3.325332   \n1                                        0.444391                    3.032144   \n2                                        0.534549                    2.485848   \n3                                        0.506185                    2.606255   \n4                                        0.462282                    2.809279   \n..                                            ...                         ...   \n394                                      0.418382                    2.995603   \n395                                      0.439568                    3.056046   \n396                                      0.527778                    1.500000   \n397                                      0.313693                    3.573557   \n398                                      0.670229                    1.857045   \n\n     original_glszm_ZonePercentage  original_glszm_ZoneVariance  \\\n0                         0.002314                 3.880772e+06   \n1                         0.005612                 2.372010e+06   \n2                         0.006752                 1.540027e+06   \n3                         0.003755                 6.936741e+06   \n4                         0.006521                 1.265399e+06   \n..                             ...                          ...   \n394                       0.004243                 1.005061e+06   \n395                       0.001339                 1.671271e+07   \n396                       0.003728                 2.132007e+05   \n397                       0.001112                 2.008034e+07   \n398                       0.006706                 5.609262e+05   \n\n     original_ngtdm_Busyness  original_ngtdm_Coarseness  \\\n0                 473.464852                   0.000768   \n1                  59.459710                   0.004383   \n2                  33.935384                   0.007584   \n3                  46.859265                   0.005424   \n4                  39.621023                   0.006585   \n..                       ...                        ...   \n394               156.627179                   0.002228   \n395                79.989003                   0.003282   \n396                 0.996746                   0.252582   \n397               204.864200                   0.001372   \n398                 9.609163                   0.026591   \n\n     original_ngtdm_Complexity  original_ngtdm_Contrast  \\\n0                     0.182615                 0.030508   \n1                     0.032012                 0.001006   \n2                     0.024062                 0.000529   \n3                     0.013707                 0.000178   \n4                     0.034148                 0.001083   \n..                         ...                      ...   \n394                   0.136015                 0.022148   \n395                   0.024716                 0.000812   \n396                   0.007380                 0.000037   \n397                   0.054063                 0.003697   \n398                   0.018682                 0.000311   \n\n     original_ngtdm_Strength  \n0                   0.000758  \n1                   0.003685  \n2                   0.006447  \n3                   0.004543  \n4                   0.005626  \n..                       ...  \n394                 0.002098  \n395                 0.003078  \n396                 0.231059  \n397                 0.001368  \n398                 0.022676  \n\n[399 rows x 120 columns]",
      "text/html": "<div>\n<style scoped>\n    .dataframe tbody tr th:only-of-type {\n        vertical-align: middle;\n    }\n\n    .dataframe tbody tr th {\n        vertical-align: top;\n    }\n\n    .dataframe thead th {\n        text-align: right;\n    }\n</style>\n<table border=\"1\" class=\"dataframe\">\n  <thead>\n    <tr style=\"text-align: right;\">\n      <th></th>\n      <th>ID</th>\n      <th>pCR (outcome)</th>\n      <th>RelapseFreeSurvival (outcome)</th>\n      <th>Age</th>\n      <th>ER</th>\n      <th>PgR</th>\n      <th>HER2</th>\n      <th>TrippleNegative</th>\n      <th>ChemoGrade</th>\n      <th>Proliferation</th>\n      <th>...</th>\n      <th>original_glszm_SmallAreaHighGrayLevelEmphasis</th>\n      <th>original_glszm_SmallAreaLowGrayLevelEmphasis</th>\n      <th>original_glszm_ZoneEntropy</th>\n      <th>original_glszm_ZonePercentage</th>\n      <th>original_glszm_ZoneVariance</th>\n      <th>original_ngtdm_Busyness</th>\n      <th>original_ngtdm_Coarseness</th>\n      <th>original_ngtdm_Complexity</th>\n      <th>original_ngtdm_Contrast</th>\n      <th>original_ngtdm_Strength</th>\n    </tr>\n  </thead>\n  <tbody>\n    <tr>\n      <th>0</th>\n      <td>TRG002174</td>\n      <td>1</td>\n      <td>144.000000</td>\n      <td>41.0</td>\n      <td>0</td>\n      <td>0.0</td>\n      <td>0.0</td>\n      <td>1.0</td>\n      <td>3</td>\n      <td>3</td>\n      <td>...</td>\n      <td>0.517172</td>\n      <td>0.375126</td>\n      <td>3.325332</td>\n      <td>0.002314</td>\n      <td>3.880772e+06</td>\n      <td>473.464852</td>\n      <td>0.000768</td>\n      <td>0.182615</td>\n      <td>0.030508</td>\n      <td>0.000758</td>\n    </tr>\n    <tr>\n      <th>1</th>\n      <td>TRG002178</td>\n      <td>0</td>\n      <td>142.000000</td>\n      <td>39.0</td>\n      <td>1</td>\n      <td>1.0</td>\n      <td>0.0</td>\n      <td>0.0</td>\n      <td>3</td>\n      <td>3</td>\n      <td>...</td>\n      <td>0.444391</td>\n      <td>0.444391</td>\n      <td>3.032144</td>\n      <td>0.005612</td>\n      <td>2.372010e+06</td>\n      <td>59.459710</td>\n      <td>0.004383</td>\n      <td>0.032012</td>\n      <td>0.001006</td>\n      <td>0.003685</td>\n    </tr>\n    <tr>\n      <th>2</th>\n      <td>TRG002204</td>\n      <td>1</td>\n      <td>135.000000</td>\n      <td>31.0</td>\n      <td>0</td>\n      <td>0.0</td>\n      <td>0.0</td>\n      <td>1.0</td>\n      <td>2</td>\n      <td>1</td>\n      <td>...</td>\n      <td>0.534549</td>\n      <td>0.534549</td>\n      <td>2.485848</td>\n      <td>0.006752</td>\n      <td>1.540027e+06</td>\n      <td>33.935384</td>\n      <td>0.007584</td>\n      <td>0.024062</td>\n      <td>0.000529</td>\n      <td>0.006447</td>\n    </tr>\n    <tr>\n      <th>3</th>\n      <td>TRG002206</td>\n      <td>0</td>\n      <td>12.000000</td>\n      <td>35.0</td>\n      <td>0</td>\n      <td>0.0</td>\n      <td>0.0</td>\n      <td>1.0</td>\n      <td>3</td>\n      <td>3</td>\n      <td>...</td>\n      <td>0.506185</td>\n      <td>0.506185</td>\n      <td>2.606255</td>\n      <td>0.003755</td>\n      <td>6.936741e+06</td>\n      <td>46.859265</td>\n      <td>0.005424</td>\n      <td>0.013707</td>\n      <td>0.000178</td>\n      <td>0.004543</td>\n    </tr>\n    <tr>\n      <th>4</th>\n      <td>TRG002210</td>\n      <td>0</td>\n      <td>109.000000</td>\n      <td>61.0</td>\n      <td>1</td>\n      <td>0.0</td>\n      <td>0.0</td>\n      <td>0.0</td>\n      <td>2</td>\n      <td>1</td>\n      <td>...</td>\n      <td>0.462282</td>\n      <td>0.462282</td>\n      <td>2.809279</td>\n      <td>0.006521</td>\n      <td>1.265399e+06</td>\n      <td>39.621023</td>\n      <td>0.006585</td>\n      <td>0.034148</td>\n      <td>0.001083</td>\n      <td>0.005626</td>\n    </tr>\n    <tr>\n      <th>...</th>\n      <td>...</td>\n      <td>...</td>\n      <td>...</td>\n      <td>...</td>\n      <td>...</td>\n      <td>...</td>\n      <td>...</td>\n      <td>...</td>\n      <td>...</td>\n      <td>...</td>\n      <td>...</td>\n      <td>...</td>\n      <td>...</td>\n      <td>...</td>\n      <td>...</td>\n      <td>...</td>\n      <td>...</td>\n      <td>...</td>\n      <td>...</td>\n      <td>...</td>\n      <td>...</td>\n    </tr>\n    <tr>\n      <th>394</th>\n      <td>TRG002954</td>\n      <td>0</td>\n      <td>49.250000</td>\n      <td>34.3</td>\n      <td>0</td>\n      <td>0.0</td>\n      <td>0.0</td>\n      <td>1.0</td>\n      <td>3</td>\n      <td>3</td>\n      <td>...</td>\n      <td>0.418382</td>\n      <td>0.418382</td>\n      <td>2.995603</td>\n      <td>0.004243</td>\n      <td>1.005061e+06</td>\n      <td>156.627179</td>\n      <td>0.002228</td>\n      <td>0.136015</td>\n      <td>0.022148</td>\n      <td>0.002098</td>\n    </tr>\n    <tr>\n      <th>395</th>\n      <td>TRG002955</td>\n      <td>1</td>\n      <td>49.250000</td>\n      <td>46.1</td>\n      <td>0</td>\n      <td>0.0</td>\n      <td>0.0</td>\n      <td>1.0</td>\n      <td>3</td>\n      <td>3</td>\n      <td>...</td>\n      <td>0.439568</td>\n      <td>0.439568</td>\n      <td>3.056046</td>\n      <td>0.001339</td>\n      <td>1.671271e+07</td>\n      <td>79.989003</td>\n      <td>0.003282</td>\n      <td>0.024716</td>\n      <td>0.000812</td>\n      <td>0.003078</td>\n    </tr>\n    <tr>\n      <th>396</th>\n      <td>TRG002958</td>\n      <td>0</td>\n      <td>48.500000</td>\n      <td>53.3</td>\n      <td>0</td>\n      <td>0.0</td>\n      <td>0.0</td>\n      <td>1.0</td>\n      <td>2</td>\n      <td>1</td>\n      <td>...</td>\n      <td>0.527779</td>\n      <td>0.527778</td>\n      <td>1.500000</td>\n      <td>0.003728</td>\n      <td>2.132007e+05</td>\n      <td>0.996746</td>\n      <td>0.252582</td>\n      <td>0.007380</td>\n      <td>0.000037</td>\n      <td>0.231059</td>\n    </tr>\n    <tr>\n      <th>397</th>\n      <td>TRG002961</td>\n      <td>0</td>\n      <td>47.500000</td>\n      <td>68.8</td>\n      <td>1</td>\n      <td>0.0</td>\n      <td>0.0</td>\n      <td>0.0</td>\n      <td>3</td>\n      <td>3</td>\n      <td>...</td>\n      <td>0.313693</td>\n      <td>0.313693</td>\n      <td>3.573557</td>\n      <td>0.001112</td>\n      <td>2.008034e+07</td>\n      <td>204.864200</td>\n      <td>0.001372</td>\n      <td>0.054063</td>\n      <td>0.003697</td>\n      <td>0.001368</td>\n    </tr>\n    <tr>\n      <th>398</th>\n      <td>TRG002962</td>\n      <td>0</td>\n      <td>46.916667</td>\n      <td>46.0</td>\n      <td>1</td>\n      <td>0.0</td>\n      <td>0.0</td>\n      <td>0.0</td>\n      <td>2</td>\n      <td>1</td>\n      <td>...</td>\n      <td>0.670229</td>\n      <td>0.670229</td>\n      <td>1.857045</td>\n      <td>0.006706</td>\n      <td>5.609262e+05</td>\n      <td>9.609163</td>\n      <td>0.026591</td>\n      <td>0.018682</td>\n      <td>0.000311</td>\n      <td>0.022676</td>\n    </tr>\n  </tbody>\n</table>\n<p>399 rows × 120 columns</p>\n</div>"
     },
     "execution_count": 33,
     "metadata": {},
     "output_type": "execute_result"
    }
   ],
   "source": [
    "import numpy as np\n",
    "import pandas as pd\n",
    "from sklearn.model_selection import train_test_split\n",
    "\n",
    "dataset=pd.read_excel(\"C:/Users/10253/Desktop/ML-CW-2/Data/trainDataset.xls\")\n",
    "dataset.head(len(dataset)-1)"
   ],
   "metadata": {
    "collapsed": false
   }
  },
  {
   "cell_type": "code",
   "execution_count": 34,
   "outputs": [],
   "source": [
    "# from sklearn.impute import  SimpleImputer\n",
    "# imp=SimpleImputer(missing_values=np.nan,strategy='mean')\n",
    "# names=dataset.columns.drop('ID')\n",
    "# a=imp.fit_transform(dataset.drop('ID',axis=1))\n",
    "# imp=SimpleImputer(missing_values=999,strategy='mean')\n",
    "# a=imp.fit_transform(a)\n",
    "# df=pd.DataFrame(a,columns=\n",
    "#                 names)\n",
    "# df"
   ],
   "metadata": {
    "collapsed": false
   }
  },
  {
   "cell_type": "markdown",
   "source": [
    "# Data Preprocessing"
   ],
   "metadata": {
    "collapsed": false
   }
  },
  {
   "cell_type": "markdown",
   "source": [
    "### Removing duplicate"
   ],
   "metadata": {
    "collapsed": false
   }
  },
  {
   "cell_type": "code",
   "execution_count": 35,
   "outputs": [],
   "source": [
    "dataset.drop_duplicates(inplace=True) #because with 119 features, it is unlikely that exact same data happens in real world, it is useless for training and testing; hence remove it before dataset split"
   ],
   "metadata": {
    "collapsed": false
   }
  },
  {
   "cell_type": "markdown",
   "source": [
    "### Split Dataset"
   ],
   "metadata": {
    "collapsed": false
   }
  },
  {
   "cell_type": "code",
   "execution_count": 36,
   "outputs": [
    {
     "data": {
      "text/plain": "0      299\n1       96\n999      5\nName: pCR (outcome), dtype: int64"
     },
     "execution_count": 36,
     "metadata": {},
     "output_type": "execute_result"
    }
   ],
   "source": [
    "dataset['pCR (outcome)'].value_counts()"
   ],
   "metadata": {
    "collapsed": false
   }
  },
  {
   "cell_type": "code",
   "execution_count": 37,
   "outputs": [],
   "source": [
    "y=dataset['pCR (outcome)']\n",
    "X=dataset.drop(['pCR (outcome)'],axis=1)\n",
    "\n",
    "\n",
    "X_train,X_test,y_train,y_test=train_test_split(X,y,test_size=0.3)"
   ],
   "metadata": {
    "collapsed": false
   }
  },
  {
   "cell_type": "markdown",
   "source": [
    "### drop columns that are not applicable"
   ],
   "metadata": {
    "collapsed": false
   }
  },
  {
   "cell_type": "code",
   "execution_count": 38,
   "outputs": [],
   "source": [
    "class columnDropperTransformer(): #https://stackoverflow.com/questions/68402691/adding-dropping-column-instance-into-a-pipeline\n",
    "    def __init__(self,columns):\n",
    "        self.columns=columns\n",
    "\n",
    "    def fit(self,X,y=None):\n",
    "        return self\n",
    "\n",
    "    def transform(self,X,y=None):\n",
    "        return X.drop(self.columns,axis=1)\n",
    "\n",
    "    def fit_transform(self,X,y=None):\n",
    "        return X.drop(self.columns,axis=1)\n",
    "\n",
    "dropper = columnDropperTransformer(['ID'])\n",
    "X_train=dropper.fit_transform(X_train)\n",
    "\n",
    "X_test=dropper.transform(X_test)"
   ],
   "metadata": {
    "collapsed": false
   }
  },
  {
   "cell_type": "markdown",
   "source": [
    "### missing data"
   ],
   "metadata": {
    "collapsed": false
   }
  },
  {
   "cell_type": "code",
   "execution_count": 39,
   "outputs": [
    {
     "data": {
      "text/plain": "ID                               0\npCR (outcome)                    0\nRelapseFreeSurvival (outcome)    0\nAge                              0\nER                               0\n                                ..\noriginal_ngtdm_Busyness          0\noriginal_ngtdm_Coarseness        0\noriginal_ngtdm_Complexity        0\noriginal_ngtdm_Contrast          0\noriginal_ngtdm_Strength          0\nLength: 120, dtype: int64"
     },
     "execution_count": 39,
     "metadata": {},
     "output_type": "execute_result"
    }
   ],
   "source": [
    "dataset.isnull().sum()"
   ],
   "metadata": {
    "collapsed": false
   }
  },
  {
   "cell_type": "code",
   "execution_count": 40,
   "outputs": [],
   "source": [
    "from sklearn.impute import SimpleImputer\n",
    "\n",
    "names=X_train.columns\n",
    "\n",
    "imp=SimpleImputer(missing_values=np.nan,strategy='mean')\n",
    "# X_train[:]=imp.fit_transform(X_train)\n",
    "# X_test[:]=imp.transform(X_test)\n",
    "X_train=imp.fit_transform(X_train)\n",
    "X_test=imp.transform(X_test)\n",
    "\n",
    "imp.missing_values=np.float64(999)\n",
    "# X_train[:]=imp.fit_transform(X_train)\n",
    "# X_test[:]=imp.transform(X_test)\n",
    "X_train=imp.fit_transform(X_train)\n",
    "X_test=imp.transform(X_test)"
   ],
   "metadata": {
    "collapsed": false
   }
  },
  {
   "cell_type": "markdown",
   "source": [
    "### Removing outliers"
   ],
   "metadata": {
    "collapsed": false
   }
  },
  {
   "cell_type": "code",
   "execution_count": 41,
   "outputs": [],
   "source": [
    "from sklearn.neighbors import LocalOutlierFactor\n",
    "\n",
    "# because use LocalOutlierFactor may lose useful information becuase whenever there is an outlier in any features of the sample, the sample will be detected as outlier sample and all its information will be set to 999\n",
    "# therefore, use other method\n",
    "\n",
    "class outlierHandlingWithDev():\n",
    "    def fit(self,X,y=None):\n",
    "        self.mean=np.zeros(len(X[0]))\n",
    "        self.std=np.zeros(len(X[0]))\n",
    "        for i in range(len(X[0])):\n",
    "            self.mean[i]=X[:,i].mean()\n",
    "            self.std[i]=X[:,i].std()\n",
    "\n",
    "        return self\n",
    "\n",
    "    def transform(self,X,y=None):\n",
    "        for i in range(len(X)):\n",
    "            for j in range(len(X[i])):\n",
    "                if np.abs(X[i][j]-self.mean[j])>3*self.std[j]:\n",
    "                    X[i][j]=999\n",
    "        return X\n",
    "\n",
    "    def fit_transform(self,X,y=None):\n",
    "        self.fit(X,y)\n",
    "        return self.transform(X,y)\n",
    "    # def fit(self,X,y=None):\n",
    "    #     self.mean=X.mean(axis=0)\n",
    "    #     self.std=X.std(axis=0)\n",
    "    #\n",
    "    #     return self\n",
    "    #\n",
    "    # def transform(self,X,y=None):\n",
    "    #     for i in X.columns:\n",
    "    #         for j in range(len(X)):\n",
    "    #             if abs(X[i][j]-self.mean[i])>(3*self.std[i]):\n",
    "    #                 X[i][j]=999\n",
    "    #\n",
    "    #     return X\n",
    "    #\n",
    "    # def fit_transform(self,X,y=None):\n",
    "    #     self.fit(X,y)\n",
    "    #     return self.transform(X,y)\n",
    "\n",
    "detector=outlierHandlingWithDev()\n",
    "detector.fit(X_train)\n",
    "detector.transform(X_train)\n",
    "detector.transform(X_test)\n",
    "\n",
    "X_train=imp.fit_transform(X_train)\n",
    "X_test=imp.transform(X_test)\n",
    "\n",
    "X_train=pd.DataFrame(X_train,columns=names)\n",
    "X_test=pd.DataFrame(X_test,columns=names)"
   ],
   "metadata": {
    "collapsed": false
   }
  },
  {
   "cell_type": "markdown",
   "source": [
    "### Binning"
   ],
   "metadata": {
    "collapsed": false
   }
  },
  {
   "cell_type": "code",
   "execution_count": 41,
   "outputs": [],
   "source": [],
   "metadata": {
    "collapsed": false
   }
  },
  {
   "cell_type": "markdown",
   "source": [
    "### resample"
   ],
   "metadata": {
    "collapsed": false
   }
  },
  {
   "cell_type": "code",
   "execution_count": 41,
   "outputs": [],
   "source": [],
   "metadata": {
    "collapsed": false
   }
  },
  {
   "cell_type": "markdown",
   "source": [
    "### MinMaxScaler"
   ],
   "metadata": {
    "collapsed": false
   }
  },
  {
   "cell_type": "code",
   "execution_count": 42,
   "outputs": [
    {
     "data": {
      "text/plain": "     RelapseFreeSurvival (outcome)       Age   ER  PgR  HER2  TrippleNegative  \\\n0                         0.423077  0.781823  1.0  1.0   0.0              0.0   \n1                         0.200000  0.282181  0.0  0.0   0.0              1.0   \n2                         0.192308  0.778676  1.0  1.0   1.0              0.0   \n3                         0.284615  0.605794  0.0  0.0   0.0              1.0   \n4                         0.553846  0.219265  0.0  0.0   0.0              1.0   \n..                             ...       ...  ...  ...   ...              ...   \n275                       0.438462  0.464348  0.0  0.0   0.0              1.0   \n276                       0.561538  0.361702  0.0  0.0   1.0              0.0   \n277                       0.384872  0.285753  1.0  1.0   0.0              0.0   \n278                       0.269231  0.585795  1.0  1.0   1.0              0.0   \n279                       0.076923  0.460229  0.0  0.0   0.0              1.0   \n\n     ChemoGrade  Proliferation  HistologyType  LNStatus  ...  \\\n0      0.500000            0.0       1.000000       0.0  ...   \n1      1.000000            1.0       0.000000       0.0  ...   \n2      0.500000            0.0       1.000000       0.0  ...   \n3      0.705036            1.0       0.125899       1.0  ...   \n4      0.500000            0.0       0.000000       1.0  ...   \n..          ...            ...            ...       ...  ...   \n275    0.500000            0.0       0.000000       0.0  ...   \n276    0.500000            0.0       0.000000       0.0  ...   \n277    1.000000            1.0       0.000000       1.0  ...   \n278    0.500000            0.0       0.000000       0.0  ...   \n279    1.000000            0.5       0.000000       1.0  ...   \n\n     original_glszm_SmallAreaHighGrayLevelEmphasis  \\\n0                                         0.868388   \n1                                         0.570113   \n2                                         0.417328   \n3                                         0.394987   \n4                                         0.201109   \n..                                             ...   \n275                                       0.431626   \n276                                       0.615611   \n277                                       0.506498   \n278                                       0.309016   \n279                                       0.441855   \n\n     original_glszm_SmallAreaLowGrayLevelEmphasis  original_glszm_ZoneEntropy  \\\n0                                        0.924559                    0.097225   \n1                                        0.606989                    0.187005   \n2                                        0.444322                    0.770089   \n3                                        0.420537                    0.893701   \n4                                        0.214117                    0.824875   \n..                                            ...                         ...   \n275                                      0.459545                    0.491264   \n276                                      0.655431                    0.268247   \n277                                      0.539260                    0.679555   \n278                                      0.329003                    0.428637   \n279                                      0.470435                    0.466996   \n\n     original_glszm_ZonePercentage  original_glszm_ZoneVariance  \\\n0                         0.040159                     0.258104   \n1                         0.309210                     0.000669   \n2                         0.358040                     0.005766   \n3                         0.437616                     0.010137   \n4                         0.159498                     0.013977   \n..                             ...                          ...   \n275                       0.072624                     0.038538   \n276                       0.083550                     0.026050   \n277                       0.537708                     0.005987   \n278                       0.658642                     0.000256   \n279                       0.062949                     0.042348   \n\n     original_ngtdm_Busyness  original_ngtdm_Coarseness  \\\n0                   0.004369                   0.044803   \n1                   0.005674                   0.036042   \n2                   0.120549                   0.001589   \n3                   0.177797                   0.000935   \n4                   0.119171                   0.001656   \n..                       ...                        ...   \n275                 0.007283                   0.026871   \n276                 0.002509                   0.078333   \n277                 0.062738                   0.002999   \n278                 0.002968                   0.067911   \n279                 0.003877                   0.050589   \n\n     original_ngtdm_Complexity  original_ngtdm_Contrast  \\\n0                     0.003604                 0.000012   \n1                     0.177761                 0.034518   \n2                     0.411929                 0.207050   \n3                     0.318571                 0.113167   \n4                     0.346320                 0.191612   \n..                         ...                      ...   \n275                   0.022532                 0.000409   \n276                   0.009931                 0.000086   \n277                   0.171437                 0.032099   \n278                   0.134257                 0.016257   \n279                   0.010440                 0.000090   \n\n     original_ngtdm_Strength  \n0                   0.178582  \n1                   0.150981  \n2                   0.007724  \n3                   0.004918  \n4                   0.008379  \n..                       ...  \n275                 0.120550  \n276                 0.320601  \n277                 0.012846  \n278                 0.282100  \n279                 0.218126  \n\n[280 rows x 118 columns]",
      "text/html": "<div>\n<style scoped>\n    .dataframe tbody tr th:only-of-type {\n        vertical-align: middle;\n    }\n\n    .dataframe tbody tr th {\n        vertical-align: top;\n    }\n\n    .dataframe thead th {\n        text-align: right;\n    }\n</style>\n<table border=\"1\" class=\"dataframe\">\n  <thead>\n    <tr style=\"text-align: right;\">\n      <th></th>\n      <th>RelapseFreeSurvival (outcome)</th>\n      <th>Age</th>\n      <th>ER</th>\n      <th>PgR</th>\n      <th>HER2</th>\n      <th>TrippleNegative</th>\n      <th>ChemoGrade</th>\n      <th>Proliferation</th>\n      <th>HistologyType</th>\n      <th>LNStatus</th>\n      <th>...</th>\n      <th>original_glszm_SmallAreaHighGrayLevelEmphasis</th>\n      <th>original_glszm_SmallAreaLowGrayLevelEmphasis</th>\n      <th>original_glszm_ZoneEntropy</th>\n      <th>original_glszm_ZonePercentage</th>\n      <th>original_glszm_ZoneVariance</th>\n      <th>original_ngtdm_Busyness</th>\n      <th>original_ngtdm_Coarseness</th>\n      <th>original_ngtdm_Complexity</th>\n      <th>original_ngtdm_Contrast</th>\n      <th>original_ngtdm_Strength</th>\n    </tr>\n  </thead>\n  <tbody>\n    <tr>\n      <th>0</th>\n      <td>0.423077</td>\n      <td>0.781823</td>\n      <td>1.0</td>\n      <td>1.0</td>\n      <td>0.0</td>\n      <td>0.0</td>\n      <td>0.500000</td>\n      <td>0.0</td>\n      <td>1.000000</td>\n      <td>0.0</td>\n      <td>...</td>\n      <td>0.868388</td>\n      <td>0.924559</td>\n      <td>0.097225</td>\n      <td>0.040159</td>\n      <td>0.258104</td>\n      <td>0.004369</td>\n      <td>0.044803</td>\n      <td>0.003604</td>\n      <td>0.000012</td>\n      <td>0.178582</td>\n    </tr>\n    <tr>\n      <th>1</th>\n      <td>0.200000</td>\n      <td>0.282181</td>\n      <td>0.0</td>\n      <td>0.0</td>\n      <td>0.0</td>\n      <td>1.0</td>\n      <td>1.000000</td>\n      <td>1.0</td>\n      <td>0.000000</td>\n      <td>0.0</td>\n      <td>...</td>\n      <td>0.570113</td>\n      <td>0.606989</td>\n      <td>0.187005</td>\n      <td>0.309210</td>\n      <td>0.000669</td>\n      <td>0.005674</td>\n      <td>0.036042</td>\n      <td>0.177761</td>\n      <td>0.034518</td>\n      <td>0.150981</td>\n    </tr>\n    <tr>\n      <th>2</th>\n      <td>0.192308</td>\n      <td>0.778676</td>\n      <td>1.0</td>\n      <td>1.0</td>\n      <td>1.0</td>\n      <td>0.0</td>\n      <td>0.500000</td>\n      <td>0.0</td>\n      <td>1.000000</td>\n      <td>0.0</td>\n      <td>...</td>\n      <td>0.417328</td>\n      <td>0.444322</td>\n      <td>0.770089</td>\n      <td>0.358040</td>\n      <td>0.005766</td>\n      <td>0.120549</td>\n      <td>0.001589</td>\n      <td>0.411929</td>\n      <td>0.207050</td>\n      <td>0.007724</td>\n    </tr>\n    <tr>\n      <th>3</th>\n      <td>0.284615</td>\n      <td>0.605794</td>\n      <td>0.0</td>\n      <td>0.0</td>\n      <td>0.0</td>\n      <td>1.0</td>\n      <td>0.705036</td>\n      <td>1.0</td>\n      <td>0.125899</td>\n      <td>1.0</td>\n      <td>...</td>\n      <td>0.394987</td>\n      <td>0.420537</td>\n      <td>0.893701</td>\n      <td>0.437616</td>\n      <td>0.010137</td>\n      <td>0.177797</td>\n      <td>0.000935</td>\n      <td>0.318571</td>\n      <td>0.113167</td>\n      <td>0.004918</td>\n    </tr>\n    <tr>\n      <th>4</th>\n      <td>0.553846</td>\n      <td>0.219265</td>\n      <td>0.0</td>\n      <td>0.0</td>\n      <td>0.0</td>\n      <td>1.0</td>\n      <td>0.500000</td>\n      <td>0.0</td>\n      <td>0.000000</td>\n      <td>1.0</td>\n      <td>...</td>\n      <td>0.201109</td>\n      <td>0.214117</td>\n      <td>0.824875</td>\n      <td>0.159498</td>\n      <td>0.013977</td>\n      <td>0.119171</td>\n      <td>0.001656</td>\n      <td>0.346320</td>\n      <td>0.191612</td>\n      <td>0.008379</td>\n    </tr>\n    <tr>\n      <th>...</th>\n      <td>...</td>\n      <td>...</td>\n      <td>...</td>\n      <td>...</td>\n      <td>...</td>\n      <td>...</td>\n      <td>...</td>\n      <td>...</td>\n      <td>...</td>\n      <td>...</td>\n      <td>...</td>\n      <td>...</td>\n      <td>...</td>\n      <td>...</td>\n      <td>...</td>\n      <td>...</td>\n      <td>...</td>\n      <td>...</td>\n      <td>...</td>\n      <td>...</td>\n      <td>...</td>\n    </tr>\n    <tr>\n      <th>275</th>\n      <td>0.438462</td>\n      <td>0.464348</td>\n      <td>0.0</td>\n      <td>0.0</td>\n      <td>0.0</td>\n      <td>1.0</td>\n      <td>0.500000</td>\n      <td>0.0</td>\n      <td>0.000000</td>\n      <td>0.0</td>\n      <td>...</td>\n      <td>0.431626</td>\n      <td>0.459545</td>\n      <td>0.491264</td>\n      <td>0.072624</td>\n      <td>0.038538</td>\n      <td>0.007283</td>\n      <td>0.026871</td>\n      <td>0.022532</td>\n      <td>0.000409</td>\n      <td>0.120550</td>\n    </tr>\n    <tr>\n      <th>276</th>\n      <td>0.561538</td>\n      <td>0.361702</td>\n      <td>0.0</td>\n      <td>0.0</td>\n      <td>1.0</td>\n      <td>0.0</td>\n      <td>0.500000</td>\n      <td>0.0</td>\n      <td>0.000000</td>\n      <td>0.0</td>\n      <td>...</td>\n      <td>0.615611</td>\n      <td>0.655431</td>\n      <td>0.268247</td>\n      <td>0.083550</td>\n      <td>0.026050</td>\n      <td>0.002509</td>\n      <td>0.078333</td>\n      <td>0.009931</td>\n      <td>0.000086</td>\n      <td>0.320601</td>\n    </tr>\n    <tr>\n      <th>277</th>\n      <td>0.384872</td>\n      <td>0.285753</td>\n      <td>1.0</td>\n      <td>1.0</td>\n      <td>0.0</td>\n      <td>0.0</td>\n      <td>1.000000</td>\n      <td>1.0</td>\n      <td>0.000000</td>\n      <td>1.0</td>\n      <td>...</td>\n      <td>0.506498</td>\n      <td>0.539260</td>\n      <td>0.679555</td>\n      <td>0.537708</td>\n      <td>0.005987</td>\n      <td>0.062738</td>\n      <td>0.002999</td>\n      <td>0.171437</td>\n      <td>0.032099</td>\n      <td>0.012846</td>\n    </tr>\n    <tr>\n      <th>278</th>\n      <td>0.269231</td>\n      <td>0.585795</td>\n      <td>1.0</td>\n      <td>1.0</td>\n      <td>1.0</td>\n      <td>0.0</td>\n      <td>0.500000</td>\n      <td>0.0</td>\n      <td>0.000000</td>\n      <td>0.0</td>\n      <td>...</td>\n      <td>0.309016</td>\n      <td>0.329003</td>\n      <td>0.428637</td>\n      <td>0.658642</td>\n      <td>0.000256</td>\n      <td>0.002968</td>\n      <td>0.067911</td>\n      <td>0.134257</td>\n      <td>0.016257</td>\n      <td>0.282100</td>\n    </tr>\n    <tr>\n      <th>279</th>\n      <td>0.076923</td>\n      <td>0.460229</td>\n      <td>0.0</td>\n      <td>0.0</td>\n      <td>0.0</td>\n      <td>1.0</td>\n      <td>1.000000</td>\n      <td>0.5</td>\n      <td>0.000000</td>\n      <td>1.0</td>\n      <td>...</td>\n      <td>0.441855</td>\n      <td>0.470435</td>\n      <td>0.466996</td>\n      <td>0.062949</td>\n      <td>0.042348</td>\n      <td>0.003877</td>\n      <td>0.050589</td>\n      <td>0.010440</td>\n      <td>0.000090</td>\n      <td>0.218126</td>\n    </tr>\n  </tbody>\n</table>\n<p>280 rows × 118 columns</p>\n</div>"
     },
     "execution_count": 42,
     "metadata": {},
     "output_type": "execute_result"
    }
   ],
   "source": [
    "from sklearn.preprocessing import MinMaxScaler\n",
    "scaler=MinMaxScaler()\n",
    "X_train[:]=scaler.fit_transform(X_train)\n",
    "X_test[:]=scaler.transform(X_test)\n",
    "X_train"
   ],
   "metadata": {
    "collapsed": false
   }
  },
  {
   "cell_type": "markdown",
   "source": [
    "### PCA"
   ],
   "metadata": {
    "collapsed": false
   }
  },
  {
   "cell_type": "code",
   "execution_count": 75,
   "outputs": [],
   "source": [
    "def is_related(pair1, pair2):\n",
    "    if (pair1[0] in pair2 or pair1[1] in pair2) and pair1!=pair2 and not (pair1[0]==pair2[1] and pair1[1]==pair2[0]):\n",
    "        return True\n",
    "    return False\n",
    "\n",
    "def add_relation(corr_fea):\n",
    "    for i in range(len(corr_fea)):\n",
    "        for j in range(i,len(corr_fea)):\n",
    "            if i!=j:\n",
    "                if is_related(corr_fea[i],corr_fea[j]):\n",
    "                    fea1=tuple(set(corr_fea[i])-set(corr_fea[j]))\n",
    "                    fea2=tuple(set(corr_fea[j])-set(corr_fea[i]))\n",
    "                    fea=fea1+fea2\n",
    "                    if fea not in corr_fea and rev(fea) not in corr_fea:\n",
    "                        corr_fea.append((fea1+fea2))\n",
    "\n",
    "def rev(fea):\n",
    "    f1=fea[0]\n",
    "    f2=fea[1]\n",
    "\n",
    "    return (f2,f1)\n",
    "\n",
    "corr=X_train.corr()\n",
    "corr=corr.where(abs(corr)>0.9)\n",
    "count=0\n",
    "corr_fea=[]\n",
    "for i in corr.columns:\n",
    "    for j in corr.columns:\n",
    "        if i!=j and abs(corr[i][j])>0.9 and ((i,j) not in corr_fea) and ((j,i) not in corr_fea):\n",
    "            count+=1\n",
    "            corr_fea.append((i,j))\n",
    "            add_relation(corr_fea)"
   ],
   "metadata": {
    "collapsed": false
   }
  },
  {
   "cell_type": "code",
   "execution_count": 31,
   "outputs": [
    {
     "data": {
      "text/plain": "array([[ 1.8129337 , -1.41678085, -0.57774469, ..., -0.01605587,\n         0.01737679, -0.08038422],\n       [-0.13334338,  0.27640146,  0.17228772, ...,  0.0123645 ,\n        -0.02870864,  0.00961585],\n       [ 2.17243919,  0.52860527, -0.19292474, ..., -0.03203643,\n        -0.0055941 ,  0.01828341],\n       ...,\n       [-1.50563201, -0.28248341, -1.10582445, ...,  0.08881695,\n        -0.02972668,  0.02484428],\n       [-0.91025557,  0.07912714, -0.31998867, ...,  0.00239143,\n         0.03134713,  0.02095628],\n       [ 0.29819757,  0.09602321,  0.88729159, ..., -0.00979202,\n         0.02277171, -0.00978471]])"
     },
     "execution_count": 31,
     "metadata": {},
     "output_type": "execute_result"
    }
   ],
   "source": [
    "from sklearn.decomposition import PCA\n",
    "\n",
    "new_num_fea=len(X_train.columns)-count\n",
    "\n",
    "pca=PCA(n_components=new_num_fea)\n",
    "X_train=pca.fit_transform(X_train)\n",
    "X_test=pca.transform(X_test)\n"
   ],
   "metadata": {
    "collapsed": false
   }
  },
  {
   "cell_type": "markdown",
   "source": [
    "### Feature Selection"
   ],
   "metadata": {
    "collapsed": false
   }
  },
  {
   "cell_type": "code",
   "execution_count": 76,
   "outputs": [
    {
     "data": {
      "text/plain": "array([[1.00000000e+00, 1.00000000e+00, 0.00000000e+00, ...,\n        3.60723453e-01, 9.72254357e-02, 1.18408663e-05],\n       [0.00000000e+00, 0.00000000e+00, 0.00000000e+00, ...,\n        6.87417999e-02, 1.87004819e-01, 3.45180721e-02],\n       [1.00000000e+00, 1.00000000e+00, 1.00000000e+00, ...,\n        3.61882685e-01, 7.70089499e-01, 2.07050154e-01],\n       ...,\n       [1.00000000e+00, 1.00000000e+00, 0.00000000e+00, ...,\n        4.43686056e-01, 6.79554764e-01, 3.20987055e-02],\n       [1.00000000e+00, 1.00000000e+00, 1.00000000e+00, ...,\n        3.49067984e-02, 4.28636707e-01, 1.62569988e-02],\n       [0.00000000e+00, 0.00000000e+00, 0.00000000e+00, ...,\n        3.01275840e-01, 4.66995864e-01, 9.00033502e-05]])"
     },
     "execution_count": 76,
     "metadata": {},
     "output_type": "execute_result"
    }
   ],
   "source": [
    "from sklearn.feature_selection import SelectKBest\n",
    "selector=SelectKBest(k=20)\n",
    "X_train=selector.fit_transform(X_train,y_train)\n",
    "X_test=selector.transform(X_test)\n",
    "X_train\n",
    "\n",
    "# from sklearn.feature_selection import S"
   ],
   "metadata": {
    "collapsed": false
   }
  },
  {
   "cell_type": "code",
   "execution_count": null,
   "outputs": [],
   "source": [],
   "metadata": {
    "collapsed": false
   }
  },
  {
   "cell_type": "code",
   "execution_count": null,
   "outputs": [],
   "source": [
    "\n",
    "# c=dataset.corr().abs()\n",
    "# s=c.unstack()\n",
    "# so=s.sort_values(kind=\"quicksort\")\n",
    "\n",
    "\n",
    "\n",
    "\n",
    "\n",
    "# delcol=[]\n",
    "# c=dataset.corr().shape[0]\n",
    "\n",
    "# names=dataset.corr().columns\n",
    "#\n",
    "# for i in range(c):\n",
    "#     for j in range(i+1,c):\n",
    "#         if dataset.corr().iloc[i,j]>0.8 :\n",
    "#             delcol.append((names[i],names[j]))\n",
    "# print(len(delcol))\n",
    "#\n",
    "# import numpy as np\n",
    "# np.a\n",
    "#\n",
    "# for i in range(c):\n",
    "#     count = 0\n",
    "#     for j in range(c):\n",
    "#         if dataset.corr().iloc[i,j]>0.8:\n",
    "#             count += 1\n",
    "\n",
    "\n",
    "\n"
   ],
   "metadata": {
    "collapsed": false
   }
  },
  {
   "cell_type": "markdown",
   "source": [
    "# Feature Preprocession"
   ],
   "metadata": {
    "collapsed": false
   }
  },
  {
   "cell_type": "code",
   "execution_count": null,
   "outputs": [],
   "source": [],
   "metadata": {
    "collapsed": false
   }
  },
  {
   "cell_type": "markdown",
   "source": [
    "# Methods"
   ],
   "metadata": {
    "collapsed": false
   }
  },
  {
   "cell_type": "code",
   "execution_count": null,
   "outputs": [],
   "source": [],
   "metadata": {
    "collapsed": false
   }
  }
 ],
 "metadata": {
  "kernelspec": {
   "display_name": "Python 3.7.13 ('mle_tf')",
   "language": "python",
   "name": "python3"
  },
  "language_info": {
   "name": "python",
   "version": "3.7.13"
  },
  "orig_nbformat": 4,
  "vscode": {
   "interpreter": {
    "hash": "059a28f6b8501a3f1855ad600b68ec92fe1ad87b13ae8c63d8d57e238add6b4b"
   }
  }
 },
 "nbformat": 4,
 "nbformat_minor": 2
}
