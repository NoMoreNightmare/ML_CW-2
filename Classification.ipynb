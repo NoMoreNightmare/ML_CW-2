{
 "cells": [
  {
   "cell_type": "markdown",
   "source": [
    "# Load Dataset"
   ],
   "metadata": {
    "collapsed": false
   }
  },
  {
   "cell_type": "code",
   "execution_count": 182,
   "outputs": [
    {
     "data": {
      "text/plain": "            ID  pCR (outcome)  RelapseFreeSurvival (outcome)   Age  ER  PgR  \\\n0    TRG002174              1                     144.000000  41.0   0  0.0   \n1    TRG002178              0                     142.000000  39.0   1  1.0   \n2    TRG002204              1                     135.000000  31.0   0  0.0   \n3    TRG002206              0                      12.000000  35.0   0  0.0   \n4    TRG002210              0                     109.000000  61.0   1  0.0   \n..         ...            ...                            ...   ...  ..  ...   \n394  TRG002954              0                      49.250000  34.3   0  0.0   \n395  TRG002955              1                      49.250000  46.1   0  0.0   \n396  TRG002958              0                      48.500000  53.3   0  0.0   \n397  TRG002961              0                      47.500000  68.8   1  0.0   \n398  TRG002962              0                      46.916667  46.0   1  0.0   \n\n     HER2  TrippleNegative  ChemoGrade  Proliferation  ...  \\\n0     0.0              1.0           3              3  ...   \n1     0.0              0.0           3              3  ...   \n2     0.0              1.0           2              1  ...   \n3     0.0              1.0           3              3  ...   \n4     0.0              0.0           2              1  ...   \n..    ...              ...         ...            ...  ...   \n394   0.0              1.0           3              3  ...   \n395   0.0              1.0           3              3  ...   \n396   0.0              1.0           2              1  ...   \n397   0.0              0.0           3              3  ...   \n398   0.0              0.0           2              1  ...   \n\n     original_glszm_SmallAreaHighGrayLevelEmphasis  \\\n0                                         0.517172   \n1                                         0.444391   \n2                                         0.534549   \n3                                         0.506185   \n4                                         0.462282   \n..                                             ...   \n394                                       0.418382   \n395                                       0.439568   \n396                                       0.527779   \n397                                       0.313693   \n398                                       0.670229   \n\n     original_glszm_SmallAreaLowGrayLevelEmphasis  original_glszm_ZoneEntropy  \\\n0                                        0.375126                    3.325332   \n1                                        0.444391                    3.032144   \n2                                        0.534549                    2.485848   \n3                                        0.506185                    2.606255   \n4                                        0.462282                    2.809279   \n..                                            ...                         ...   \n394                                      0.418382                    2.995603   \n395                                      0.439568                    3.056046   \n396                                      0.527778                    1.500000   \n397                                      0.313693                    3.573557   \n398                                      0.670229                    1.857045   \n\n     original_glszm_ZonePercentage  original_glszm_ZoneVariance  \\\n0                         0.002314                 3.880772e+06   \n1                         0.005612                 2.372010e+06   \n2                         0.006752                 1.540027e+06   \n3                         0.003755                 6.936741e+06   \n4                         0.006521                 1.265399e+06   \n..                             ...                          ...   \n394                       0.004243                 1.005061e+06   \n395                       0.001339                 1.671271e+07   \n396                       0.003728                 2.132007e+05   \n397                       0.001112                 2.008034e+07   \n398                       0.006706                 5.609262e+05   \n\n     original_ngtdm_Busyness  original_ngtdm_Coarseness  \\\n0                 473.464852                   0.000768   \n1                  59.459710                   0.004383   \n2                  33.935384                   0.007584   \n3                  46.859265                   0.005424   \n4                  39.621023                   0.006585   \n..                       ...                        ...   \n394               156.627179                   0.002228   \n395                79.989003                   0.003282   \n396                 0.996746                   0.252582   \n397               204.864200                   0.001372   \n398                 9.609163                   0.026591   \n\n     original_ngtdm_Complexity  original_ngtdm_Contrast  \\\n0                     0.182615                 0.030508   \n1                     0.032012                 0.001006   \n2                     0.024062                 0.000529   \n3                     0.013707                 0.000178   \n4                     0.034148                 0.001083   \n..                         ...                      ...   \n394                   0.136015                 0.022148   \n395                   0.024716                 0.000812   \n396                   0.007380                 0.000037   \n397                   0.054063                 0.003697   \n398                   0.018682                 0.000311   \n\n     original_ngtdm_Strength  \n0                   0.000758  \n1                   0.003685  \n2                   0.006447  \n3                   0.004543  \n4                   0.005626  \n..                       ...  \n394                 0.002098  \n395                 0.003078  \n396                 0.231059  \n397                 0.001368  \n398                 0.022676  \n\n[399 rows x 120 columns]",
      "text/html": "<div>\n<style scoped>\n    .dataframe tbody tr th:only-of-type {\n        vertical-align: middle;\n    }\n\n    .dataframe tbody tr th {\n        vertical-align: top;\n    }\n\n    .dataframe thead th {\n        text-align: right;\n    }\n</style>\n<table border=\"1\" class=\"dataframe\">\n  <thead>\n    <tr style=\"text-align: right;\">\n      <th></th>\n      <th>ID</th>\n      <th>pCR (outcome)</th>\n      <th>RelapseFreeSurvival (outcome)</th>\n      <th>Age</th>\n      <th>ER</th>\n      <th>PgR</th>\n      <th>HER2</th>\n      <th>TrippleNegative</th>\n      <th>ChemoGrade</th>\n      <th>Proliferation</th>\n      <th>...</th>\n      <th>original_glszm_SmallAreaHighGrayLevelEmphasis</th>\n      <th>original_glszm_SmallAreaLowGrayLevelEmphasis</th>\n      <th>original_glszm_ZoneEntropy</th>\n      <th>original_glszm_ZonePercentage</th>\n      <th>original_glszm_ZoneVariance</th>\n      <th>original_ngtdm_Busyness</th>\n      <th>original_ngtdm_Coarseness</th>\n      <th>original_ngtdm_Complexity</th>\n      <th>original_ngtdm_Contrast</th>\n      <th>original_ngtdm_Strength</th>\n    </tr>\n  </thead>\n  <tbody>\n    <tr>\n      <th>0</th>\n      <td>TRG002174</td>\n      <td>1</td>\n      <td>144.000000</td>\n      <td>41.0</td>\n      <td>0</td>\n      <td>0.0</td>\n      <td>0.0</td>\n      <td>1.0</td>\n      <td>3</td>\n      <td>3</td>\n      <td>...</td>\n      <td>0.517172</td>\n      <td>0.375126</td>\n      <td>3.325332</td>\n      <td>0.002314</td>\n      <td>3.880772e+06</td>\n      <td>473.464852</td>\n      <td>0.000768</td>\n      <td>0.182615</td>\n      <td>0.030508</td>\n      <td>0.000758</td>\n    </tr>\n    <tr>\n      <th>1</th>\n      <td>TRG002178</td>\n      <td>0</td>\n      <td>142.000000</td>\n      <td>39.0</td>\n      <td>1</td>\n      <td>1.0</td>\n      <td>0.0</td>\n      <td>0.0</td>\n      <td>3</td>\n      <td>3</td>\n      <td>...</td>\n      <td>0.444391</td>\n      <td>0.444391</td>\n      <td>3.032144</td>\n      <td>0.005612</td>\n      <td>2.372010e+06</td>\n      <td>59.459710</td>\n      <td>0.004383</td>\n      <td>0.032012</td>\n      <td>0.001006</td>\n      <td>0.003685</td>\n    </tr>\n    <tr>\n      <th>2</th>\n      <td>TRG002204</td>\n      <td>1</td>\n      <td>135.000000</td>\n      <td>31.0</td>\n      <td>0</td>\n      <td>0.0</td>\n      <td>0.0</td>\n      <td>1.0</td>\n      <td>2</td>\n      <td>1</td>\n      <td>...</td>\n      <td>0.534549</td>\n      <td>0.534549</td>\n      <td>2.485848</td>\n      <td>0.006752</td>\n      <td>1.540027e+06</td>\n      <td>33.935384</td>\n      <td>0.007584</td>\n      <td>0.024062</td>\n      <td>0.000529</td>\n      <td>0.006447</td>\n    </tr>\n    <tr>\n      <th>3</th>\n      <td>TRG002206</td>\n      <td>0</td>\n      <td>12.000000</td>\n      <td>35.0</td>\n      <td>0</td>\n      <td>0.0</td>\n      <td>0.0</td>\n      <td>1.0</td>\n      <td>3</td>\n      <td>3</td>\n      <td>...</td>\n      <td>0.506185</td>\n      <td>0.506185</td>\n      <td>2.606255</td>\n      <td>0.003755</td>\n      <td>6.936741e+06</td>\n      <td>46.859265</td>\n      <td>0.005424</td>\n      <td>0.013707</td>\n      <td>0.000178</td>\n      <td>0.004543</td>\n    </tr>\n    <tr>\n      <th>4</th>\n      <td>TRG002210</td>\n      <td>0</td>\n      <td>109.000000</td>\n      <td>61.0</td>\n      <td>1</td>\n      <td>0.0</td>\n      <td>0.0</td>\n      <td>0.0</td>\n      <td>2</td>\n      <td>1</td>\n      <td>...</td>\n      <td>0.462282</td>\n      <td>0.462282</td>\n      <td>2.809279</td>\n      <td>0.006521</td>\n      <td>1.265399e+06</td>\n      <td>39.621023</td>\n      <td>0.006585</td>\n      <td>0.034148</td>\n      <td>0.001083</td>\n      <td>0.005626</td>\n    </tr>\n    <tr>\n      <th>...</th>\n      <td>...</td>\n      <td>...</td>\n      <td>...</td>\n      <td>...</td>\n      <td>...</td>\n      <td>...</td>\n      <td>...</td>\n      <td>...</td>\n      <td>...</td>\n      <td>...</td>\n      <td>...</td>\n      <td>...</td>\n      <td>...</td>\n      <td>...</td>\n      <td>...</td>\n      <td>...</td>\n      <td>...</td>\n      <td>...</td>\n      <td>...</td>\n      <td>...</td>\n      <td>...</td>\n    </tr>\n    <tr>\n      <th>394</th>\n      <td>TRG002954</td>\n      <td>0</td>\n      <td>49.250000</td>\n      <td>34.3</td>\n      <td>0</td>\n      <td>0.0</td>\n      <td>0.0</td>\n      <td>1.0</td>\n      <td>3</td>\n      <td>3</td>\n      <td>...</td>\n      <td>0.418382</td>\n      <td>0.418382</td>\n      <td>2.995603</td>\n      <td>0.004243</td>\n      <td>1.005061e+06</td>\n      <td>156.627179</td>\n      <td>0.002228</td>\n      <td>0.136015</td>\n      <td>0.022148</td>\n      <td>0.002098</td>\n    </tr>\n    <tr>\n      <th>395</th>\n      <td>TRG002955</td>\n      <td>1</td>\n      <td>49.250000</td>\n      <td>46.1</td>\n      <td>0</td>\n      <td>0.0</td>\n      <td>0.0</td>\n      <td>1.0</td>\n      <td>3</td>\n      <td>3</td>\n      <td>...</td>\n      <td>0.439568</td>\n      <td>0.439568</td>\n      <td>3.056046</td>\n      <td>0.001339</td>\n      <td>1.671271e+07</td>\n      <td>79.989003</td>\n      <td>0.003282</td>\n      <td>0.024716</td>\n      <td>0.000812</td>\n      <td>0.003078</td>\n    </tr>\n    <tr>\n      <th>396</th>\n      <td>TRG002958</td>\n      <td>0</td>\n      <td>48.500000</td>\n      <td>53.3</td>\n      <td>0</td>\n      <td>0.0</td>\n      <td>0.0</td>\n      <td>1.0</td>\n      <td>2</td>\n      <td>1</td>\n      <td>...</td>\n      <td>0.527779</td>\n      <td>0.527778</td>\n      <td>1.500000</td>\n      <td>0.003728</td>\n      <td>2.132007e+05</td>\n      <td>0.996746</td>\n      <td>0.252582</td>\n      <td>0.007380</td>\n      <td>0.000037</td>\n      <td>0.231059</td>\n    </tr>\n    <tr>\n      <th>397</th>\n      <td>TRG002961</td>\n      <td>0</td>\n      <td>47.500000</td>\n      <td>68.8</td>\n      <td>1</td>\n      <td>0.0</td>\n      <td>0.0</td>\n      <td>0.0</td>\n      <td>3</td>\n      <td>3</td>\n      <td>...</td>\n      <td>0.313693</td>\n      <td>0.313693</td>\n      <td>3.573557</td>\n      <td>0.001112</td>\n      <td>2.008034e+07</td>\n      <td>204.864200</td>\n      <td>0.001372</td>\n      <td>0.054063</td>\n      <td>0.003697</td>\n      <td>0.001368</td>\n    </tr>\n    <tr>\n      <th>398</th>\n      <td>TRG002962</td>\n      <td>0</td>\n      <td>46.916667</td>\n      <td>46.0</td>\n      <td>1</td>\n      <td>0.0</td>\n      <td>0.0</td>\n      <td>0.0</td>\n      <td>2</td>\n      <td>1</td>\n      <td>...</td>\n      <td>0.670229</td>\n      <td>0.670229</td>\n      <td>1.857045</td>\n      <td>0.006706</td>\n      <td>5.609262e+05</td>\n      <td>9.609163</td>\n      <td>0.026591</td>\n      <td>0.018682</td>\n      <td>0.000311</td>\n      <td>0.022676</td>\n    </tr>\n  </tbody>\n</table>\n<p>399 rows × 120 columns</p>\n</div>"
     },
     "execution_count": 182,
     "metadata": {},
     "output_type": "execute_result"
    }
   ],
   "source": [
    "import numpy as np\n",
    "import pandas as pd\n",
    "from sklearn.model_selection import train_test_split\n",
    "\n",
    "dataset=pd.read_excel(\"C:/Users/10253/Desktop/ML-CW-2/Data/trainDataset.xls\")\n",
    "dataset.head(len(dataset)-1)"
   ],
   "metadata": {
    "collapsed": false
   }
  },
  {
   "cell_type": "code",
   "execution_count": 183,
   "outputs": [],
   "source": [
    "# from sklearn.impute import  SimpleImputer\n",
    "# imp=SimpleImputer(missing_values=np.nan,strategy='mean')\n",
    "# names=dataset.columns.drop('ID')\n",
    "# a=imp.fit_transform(dataset.drop('ID',axis=1))\n",
    "# imp=SimpleImputer(missing_values=999,strategy='mean')\n",
    "# a=imp.fit_transform(a)\n",
    "# df=pd.DataFrame(a,columns=\n",
    "#                 names)\n",
    "# df"
   ],
   "metadata": {
    "collapsed": false
   }
  },
  {
   "cell_type": "markdown",
   "source": [
    "# Data Preprocessing"
   ],
   "metadata": {
    "collapsed": false
   }
  },
  {
   "cell_type": "markdown",
   "source": [
    "### Removing duplicate"
   ],
   "metadata": {
    "collapsed": false
   }
  },
  {
   "cell_type": "code",
   "execution_count": 184,
   "outputs": [],
   "source": [
    "dataset.drop_duplicates(inplace=True) #because with 119 features, it is unlikely that exact same data happens in real world, it is useless for training and testing; hence remove it before dataset split"
   ],
   "metadata": {
    "collapsed": false
   }
  },
  {
   "cell_type": "markdown",
   "source": [
    "### Split Dataset"
   ],
   "metadata": {
    "collapsed": false
   }
  },
  {
   "cell_type": "code",
   "execution_count": 185,
   "outputs": [
    {
     "data": {
      "text/plain": "0      299\n1       96\n999      5\nName: pCR (outcome), dtype: int64"
     },
     "execution_count": 185,
     "metadata": {},
     "output_type": "execute_result"
    }
   ],
   "source": [
    "dataset['pCR (outcome)'].value_counts()"
   ],
   "metadata": {
    "collapsed": false
   }
  },
  {
   "cell_type": "code",
   "execution_count": 186,
   "outputs": [],
   "source": [
    "y=dataset['pCR (outcome)']\n",
    "X=dataset.drop(['pCR (outcome)'],axis=1)\n",
    "\n",
    "\n",
    "X_train,X_test,y_train,y_test=train_test_split(X,y,test_size=0.3)"
   ],
   "metadata": {
    "collapsed": false
   }
  },
  {
   "cell_type": "markdown",
   "source": [
    "### drop columns that are not applicable"
   ],
   "metadata": {
    "collapsed": false
   }
  },
  {
   "cell_type": "code",
   "execution_count": 187,
   "outputs": [],
   "source": [
    "class columnDropperTransformer(): #https://stackoverflow.com/questions/68402691/adding-dropping-column-instance-into-a-pipeline\n",
    "    def __init__(self,columns):\n",
    "        self.columns=columns\n",
    "\n",
    "    def fit(self,X,y=None):\n",
    "        return self\n",
    "\n",
    "    def transform(self,X,y=None):\n",
    "        return X.drop(self.columns,axis=1)\n",
    "\n",
    "    def fit_transform(self,X,y=None):\n",
    "        return X.drop(self.columns,axis=1)\n",
    "\n",
    "dropper = columnDropperTransformer(['ID'])\n",
    "X_train=dropper.fit_transform(X_train)\n",
    "\n",
    "X_test=dropper.transform(X_test)"
   ],
   "metadata": {
    "collapsed": false
   }
  },
  {
   "cell_type": "markdown",
   "source": [
    "### missing data"
   ],
   "metadata": {
    "collapsed": false
   }
  },
  {
   "cell_type": "code",
   "execution_count": 188,
   "outputs": [
    {
     "data": {
      "text/plain": "ID                               0\npCR (outcome)                    0\nRelapseFreeSurvival (outcome)    0\nAge                              0\nER                               0\n                                ..\noriginal_ngtdm_Busyness          0\noriginal_ngtdm_Coarseness        0\noriginal_ngtdm_Complexity        0\noriginal_ngtdm_Contrast          0\noriginal_ngtdm_Strength          0\nLength: 120, dtype: int64"
     },
     "execution_count": 188,
     "metadata": {},
     "output_type": "execute_result"
    }
   ],
   "source": [
    "dataset.isnull().sum()"
   ],
   "metadata": {
    "collapsed": false
   }
  },
  {
   "cell_type": "code",
   "execution_count": 189,
   "outputs": [],
   "source": [
    "from sklearn.impute import SimpleImputer\n",
    "\n",
    "names=X_train.columns\n",
    "\n",
    "imp=SimpleImputer(missing_values=np.nan,strategy='mean')\n",
    "# X_train[:]=imp.fit_transform(X_train)\n",
    "# X_test[:]=imp.transform(X_test)\n",
    "X_train=imp.fit_transform(X_train)\n",
    "X_test=imp.transform(X_test)\n",
    "\n",
    "imp.missing_values=np.float64(999)\n",
    "# X_train[:]=imp.fit_transform(X_train)\n",
    "# X_test[:]=imp.transform(X_test)\n",
    "X_train=imp.fit_transform(X_train)\n",
    "X_test=imp.transform(X_test)"
   ],
   "metadata": {
    "collapsed": false
   }
  },
  {
   "cell_type": "markdown",
   "source": [
    "### Removing outliers"
   ],
   "metadata": {
    "collapsed": false
   }
  },
  {
   "cell_type": "code",
   "execution_count": 190,
   "outputs": [],
   "source": [
    "from sklearn.neighbors import LocalOutlierFactor\n",
    "\n",
    "# because use LocalOutlierFactor may lose useful information becuase whenever there is an outlier in any features of the sample, the sample will be detected as outlier sample and all its information will be set to 999\n",
    "# therefore, use other method\n",
    "\n",
    "class outlierHandlingWithDev():\n",
    "    def fit(self,X,y=None):\n",
    "        self.mean=np.zeros(len(X[0]))\n",
    "        self.std=np.zeros(len(X[0]))\n",
    "        for i in range(len(X[0])):\n",
    "            self.mean[i]=X[:,i].mean()\n",
    "            self.std[i]=X[:,i].std()\n",
    "\n",
    "        return self\n",
    "\n",
    "    def transform(self,X,y=None):\n",
    "        for i in range(len(X)):\n",
    "            for j in range(len(X[i])):\n",
    "                if np.abs(X[i][j]-self.mean[j])>3*self.std[j]:\n",
    "                    X[i][j]=999\n",
    "        return X\n",
    "\n",
    "    def fit_transform(self,X,y=None):\n",
    "        self.fit(X,y)\n",
    "        return self.transform(X,y)\n",
    "    # def fit(self,X,y=None):\n",
    "    #     self.mean=X.mean(axis=0)\n",
    "    #     self.std=X.std(axis=0)\n",
    "    #\n",
    "    #     return self\n",
    "    #\n",
    "    # def transform(self,X,y=None):\n",
    "    #     for i in X.columns:\n",
    "    #         for j in range(len(X)):\n",
    "    #             if abs(X[i][j]-self.mean[i])>(3*self.std[i]):\n",
    "    #                 X[i][j]=999\n",
    "    #\n",
    "    #     return X\n",
    "    #\n",
    "    # def fit_transform(self,X,y=None):\n",
    "    #     self.fit(X,y)\n",
    "    #     return self.transform(X,y)\n",
    "\n",
    "detector=outlierHandlingWithDev()\n",
    "detector.fit(X_train)\n",
    "detector.transform(X_train)\n",
    "detector.transform(X_test)\n",
    "\n",
    "X_train=imp.fit_transform(X_train)\n",
    "X_test=imp.transform(X_test)\n",
    "\n",
    "X_train=pd.DataFrame(X_train,columns=names)\n",
    "X_test=pd.DataFrame(X_test,columns=names)"
   ],
   "metadata": {
    "collapsed": false
   }
  },
  {
   "cell_type": "markdown",
   "source": [
    "### Binning"
   ],
   "metadata": {
    "collapsed": false
   }
  },
  {
   "cell_type": "code",
   "execution_count": 190,
   "outputs": [],
   "source": [],
   "metadata": {
    "collapsed": false
   }
  },
  {
   "cell_type": "markdown",
   "source": [
    "### resample"
   ],
   "metadata": {
    "collapsed": false
   }
  },
  {
   "cell_type": "code",
   "execution_count": 190,
   "outputs": [],
   "source": [],
   "metadata": {
    "collapsed": false
   }
  },
  {
   "cell_type": "markdown",
   "source": [
    "### MinMaxScaler"
   ],
   "metadata": {
    "collapsed": false
   }
  },
  {
   "cell_type": "code",
   "execution_count": 191,
   "outputs": [
    {
     "data": {
      "text/plain": "     RelapseFreeSurvival (outcome)       Age   ER  PgR  HER2  TrippleNegative  \\\n0                         0.432836  0.141335  0.0  0.0   0.0              1.0   \n1                         0.440299  0.424006  0.0  0.0   1.0              0.0   \n2                         0.544776  0.357800  0.0  0.0   1.0              0.0   \n3                         0.208955  0.284437  0.0  0.0   1.0              0.0   \n4                         0.223881  0.729643  0.0  0.0   0.0              1.0   \n..                             ...       ...  ...  ...   ...              ...   \n275                       0.044776  0.247337  1.0  0.0   0.0              0.0   \n276                       0.067164  0.175544  0.0  1.0   0.0              0.0   \n277                       0.597015  0.730196  1.0  0.0   0.0              0.0   \n278                       0.029851  0.514420  1.0  1.0   0.0              0.0   \n279                       0.410448  0.219174  0.0  0.0   0.0              1.0   \n\n     ChemoGrade  Proliferation  HistologyType  LNStatus  ...  \\\n0           1.0            0.5            0.0       0.0  ...   \n1           0.5            0.0            0.0       1.0  ...   \n2           0.5            0.0            0.0       0.0  ...   \n3           1.0            0.5            0.0       0.0  ...   \n4           0.5            0.5            0.0       1.0  ...   \n..          ...            ...            ...       ...  ...   \n275         1.0            0.5            0.0       1.0  ...   \n276         0.5            0.0            0.0       0.0  ...   \n277         0.5            0.0            0.0       1.0  ...   \n278         0.5            0.0            0.0       1.0  ...   \n279         0.5            0.0            0.0       0.0  ...   \n\n     original_glszm_SmallAreaHighGrayLevelEmphasis  \\\n0                                         1.000000   \n1                                         0.483330   \n2                                         0.624275   \n3                                         0.473587   \n4                                         0.507146   \n..                                             ...   \n275                                       0.467486   \n276                                       0.648996   \n277                                       0.000014   \n278                                       0.363633   \n279                                       0.416842   \n\n     original_glszm_SmallAreaLowGrayLevelEmphasis  original_glszm_ZoneEntropy  \\\n0                                        0.481086                    0.621166   \n1                                        0.507451                    0.797838   \n2                                        0.655431                    0.268012   \n3                                        0.497222                    0.743269   \n4                                        0.532455                    0.598848   \n..                                            ...                         ...   \n275                                      0.490817                    0.622367   \n276                                      0.681385                    0.368009   \n277                                      0.000015                    0.214130   \n278                                      0.381781                    1.000000   \n279                                      0.437642                    0.894805   \n\n     original_glszm_ZonePercentage  original_glszm_ZoneVariance  \\\n0                         0.141300                     0.037519   \n1                         0.198167                     0.215474   \n2                         0.087400                     0.067762   \n3                         0.387069                     0.018754   \n4                         0.260036                     0.020785   \n..                             ...                          ...   \n275                       0.035246                     0.855396   \n276                       0.098513                     0.070424   \n277                       0.071263                     0.013972   \n278                       0.182714                     0.120466   \n279                       0.424172                     0.009390   \n\n     original_ngtdm_Busyness  original_ngtdm_Coarseness  \\\n0                   0.099893                   0.001924   \n1                   0.209591                   0.000661   \n2                   0.002181                   0.078413   \n3                   0.191705                   0.000886   \n4                   0.016987                   0.010094   \n..                       ...                        ...   \n275                 0.024214                   0.006928   \n276                 0.097305                   0.001874   \n277                 0.000000                   0.025685   \n278                 0.364836                   0.000339   \n279                 0.052342                   0.003207   \n\n     original_ngtdm_Complexity  original_ngtdm_Contrast  \\\n0                     0.335313                 0.217233   \n1                     0.130973                 0.019532   \n2                     0.009931                 0.000081   \n3                     0.524509                 0.325063   \n4                     0.087847                 0.007427   \n..                         ...                      ...   \n275                   0.022442                 0.000572   \n276                   0.274368                 0.136347   \n277                   0.000000                 0.000000   \n278                   0.353319                 0.143804   \n279                   0.142513                 0.022301   \n\n     original_ngtdm_Strength  \n0                   0.006973  \n1                   0.002527  \n2                   0.239658  \n3                   0.003327  \n4                   0.031514  \n..                       ...  \n275                 0.023740  \n276                 0.007120  \n277                 0.000000  \n278                 0.001626  \n279                 0.009999  \n\n[280 rows x 118 columns]",
      "text/html": "<div>\n<style scoped>\n    .dataframe tbody tr th:only-of-type {\n        vertical-align: middle;\n    }\n\n    .dataframe tbody tr th {\n        vertical-align: top;\n    }\n\n    .dataframe thead th {\n        text-align: right;\n    }\n</style>\n<table border=\"1\" class=\"dataframe\">\n  <thead>\n    <tr style=\"text-align: right;\">\n      <th></th>\n      <th>RelapseFreeSurvival (outcome)</th>\n      <th>Age</th>\n      <th>ER</th>\n      <th>PgR</th>\n      <th>HER2</th>\n      <th>TrippleNegative</th>\n      <th>ChemoGrade</th>\n      <th>Proliferation</th>\n      <th>HistologyType</th>\n      <th>LNStatus</th>\n      <th>...</th>\n      <th>original_glszm_SmallAreaHighGrayLevelEmphasis</th>\n      <th>original_glszm_SmallAreaLowGrayLevelEmphasis</th>\n      <th>original_glszm_ZoneEntropy</th>\n      <th>original_glszm_ZonePercentage</th>\n      <th>original_glszm_ZoneVariance</th>\n      <th>original_ngtdm_Busyness</th>\n      <th>original_ngtdm_Coarseness</th>\n      <th>original_ngtdm_Complexity</th>\n      <th>original_ngtdm_Contrast</th>\n      <th>original_ngtdm_Strength</th>\n    </tr>\n  </thead>\n  <tbody>\n    <tr>\n      <th>0</th>\n      <td>0.432836</td>\n      <td>0.141335</td>\n      <td>0.0</td>\n      <td>0.0</td>\n      <td>0.0</td>\n      <td>1.0</td>\n      <td>1.0</td>\n      <td>0.5</td>\n      <td>0.0</td>\n      <td>0.0</td>\n      <td>...</td>\n      <td>1.000000</td>\n      <td>0.481086</td>\n      <td>0.621166</td>\n      <td>0.141300</td>\n      <td>0.037519</td>\n      <td>0.099893</td>\n      <td>0.001924</td>\n      <td>0.335313</td>\n      <td>0.217233</td>\n      <td>0.006973</td>\n    </tr>\n    <tr>\n      <th>1</th>\n      <td>0.440299</td>\n      <td>0.424006</td>\n      <td>0.0</td>\n      <td>0.0</td>\n      <td>1.0</td>\n      <td>0.0</td>\n      <td>0.5</td>\n      <td>0.0</td>\n      <td>0.0</td>\n      <td>1.0</td>\n      <td>...</td>\n      <td>0.483330</td>\n      <td>0.507451</td>\n      <td>0.797838</td>\n      <td>0.198167</td>\n      <td>0.215474</td>\n      <td>0.209591</td>\n      <td>0.000661</td>\n      <td>0.130973</td>\n      <td>0.019532</td>\n      <td>0.002527</td>\n    </tr>\n    <tr>\n      <th>2</th>\n      <td>0.544776</td>\n      <td>0.357800</td>\n      <td>0.0</td>\n      <td>0.0</td>\n      <td>1.0</td>\n      <td>0.0</td>\n      <td>0.5</td>\n      <td>0.0</td>\n      <td>0.0</td>\n      <td>0.0</td>\n      <td>...</td>\n      <td>0.624275</td>\n      <td>0.655431</td>\n      <td>0.268012</td>\n      <td>0.087400</td>\n      <td>0.067762</td>\n      <td>0.002181</td>\n      <td>0.078413</td>\n      <td>0.009931</td>\n      <td>0.000081</td>\n      <td>0.239658</td>\n    </tr>\n    <tr>\n      <th>3</th>\n      <td>0.208955</td>\n      <td>0.284437</td>\n      <td>0.0</td>\n      <td>0.0</td>\n      <td>1.0</td>\n      <td>0.0</td>\n      <td>1.0</td>\n      <td>0.5</td>\n      <td>0.0</td>\n      <td>0.0</td>\n      <td>...</td>\n      <td>0.473587</td>\n      <td>0.497222</td>\n      <td>0.743269</td>\n      <td>0.387069</td>\n      <td>0.018754</td>\n      <td>0.191705</td>\n      <td>0.000886</td>\n      <td>0.524509</td>\n      <td>0.325063</td>\n      <td>0.003327</td>\n    </tr>\n    <tr>\n      <th>4</th>\n      <td>0.223881</td>\n      <td>0.729643</td>\n      <td>0.0</td>\n      <td>0.0</td>\n      <td>0.0</td>\n      <td>1.0</td>\n      <td>0.5</td>\n      <td>0.5</td>\n      <td>0.0</td>\n      <td>1.0</td>\n      <td>...</td>\n      <td>0.507146</td>\n      <td>0.532455</td>\n      <td>0.598848</td>\n      <td>0.260036</td>\n      <td>0.020785</td>\n      <td>0.016987</td>\n      <td>0.010094</td>\n      <td>0.087847</td>\n      <td>0.007427</td>\n      <td>0.031514</td>\n    </tr>\n    <tr>\n      <th>...</th>\n      <td>...</td>\n      <td>...</td>\n      <td>...</td>\n      <td>...</td>\n      <td>...</td>\n      <td>...</td>\n      <td>...</td>\n      <td>...</td>\n      <td>...</td>\n      <td>...</td>\n      <td>...</td>\n      <td>...</td>\n      <td>...</td>\n      <td>...</td>\n      <td>...</td>\n      <td>...</td>\n      <td>...</td>\n      <td>...</td>\n      <td>...</td>\n      <td>...</td>\n      <td>...</td>\n    </tr>\n    <tr>\n      <th>275</th>\n      <td>0.044776</td>\n      <td>0.247337</td>\n      <td>1.0</td>\n      <td>0.0</td>\n      <td>0.0</td>\n      <td>0.0</td>\n      <td>1.0</td>\n      <td>0.5</td>\n      <td>0.0</td>\n      <td>1.0</td>\n      <td>...</td>\n      <td>0.467486</td>\n      <td>0.490817</td>\n      <td>0.622367</td>\n      <td>0.035246</td>\n      <td>0.855396</td>\n      <td>0.024214</td>\n      <td>0.006928</td>\n      <td>0.022442</td>\n      <td>0.000572</td>\n      <td>0.023740</td>\n    </tr>\n    <tr>\n      <th>276</th>\n      <td>0.067164</td>\n      <td>0.175544</td>\n      <td>0.0</td>\n      <td>1.0</td>\n      <td>0.0</td>\n      <td>0.0</td>\n      <td>0.5</td>\n      <td>0.0</td>\n      <td>0.0</td>\n      <td>0.0</td>\n      <td>...</td>\n      <td>0.648996</td>\n      <td>0.681385</td>\n      <td>0.368009</td>\n      <td>0.098513</td>\n      <td>0.070424</td>\n      <td>0.097305</td>\n      <td>0.001874</td>\n      <td>0.274368</td>\n      <td>0.136347</td>\n      <td>0.007120</td>\n    </tr>\n    <tr>\n      <th>277</th>\n      <td>0.597015</td>\n      <td>0.730196</td>\n      <td>1.0</td>\n      <td>0.0</td>\n      <td>0.0</td>\n      <td>0.0</td>\n      <td>0.5</td>\n      <td>0.0</td>\n      <td>0.0</td>\n      <td>1.0</td>\n      <td>...</td>\n      <td>0.000014</td>\n      <td>0.000015</td>\n      <td>0.214130</td>\n      <td>0.071263</td>\n      <td>0.013972</td>\n      <td>0.000000</td>\n      <td>0.025685</td>\n      <td>0.000000</td>\n      <td>0.000000</td>\n      <td>0.000000</td>\n    </tr>\n    <tr>\n      <th>278</th>\n      <td>0.029851</td>\n      <td>0.514420</td>\n      <td>1.0</td>\n      <td>1.0</td>\n      <td>0.0</td>\n      <td>0.0</td>\n      <td>0.5</td>\n      <td>0.0</td>\n      <td>0.0</td>\n      <td>1.0</td>\n      <td>...</td>\n      <td>0.363633</td>\n      <td>0.381781</td>\n      <td>1.000000</td>\n      <td>0.182714</td>\n      <td>0.120466</td>\n      <td>0.364836</td>\n      <td>0.000339</td>\n      <td>0.353319</td>\n      <td>0.143804</td>\n      <td>0.001626</td>\n    </tr>\n    <tr>\n      <th>279</th>\n      <td>0.410448</td>\n      <td>0.219174</td>\n      <td>0.0</td>\n      <td>0.0</td>\n      <td>0.0</td>\n      <td>1.0</td>\n      <td>0.5</td>\n      <td>0.0</td>\n      <td>0.0</td>\n      <td>0.0</td>\n      <td>...</td>\n      <td>0.416842</td>\n      <td>0.437642</td>\n      <td>0.894805</td>\n      <td>0.424172</td>\n      <td>0.009390</td>\n      <td>0.052342</td>\n      <td>0.003207</td>\n      <td>0.142513</td>\n      <td>0.022301</td>\n      <td>0.009999</td>\n    </tr>\n  </tbody>\n</table>\n<p>280 rows × 118 columns</p>\n</div>"
     },
     "execution_count": 191,
     "metadata": {},
     "output_type": "execute_result"
    }
   ],
   "source": [
    "from sklearn.preprocessing import MinMaxScaler\n",
    "scaler=MinMaxScaler()\n",
    "X_train[:]=scaler.fit_transform(X_train)\n",
    "X_test[:]=scaler.transform(X_test)\n",
    "X_train"
   ],
   "metadata": {
    "collapsed": false
   }
  },
  {
   "cell_type": "markdown",
   "source": [
    "### Feature Selection"
   ],
   "metadata": {
    "collapsed": false
   }
  },
  {
   "cell_type": "code",
   "execution_count": 193,
   "outputs": [],
   "source": [
    "from sklearn.feature_selection import SelectKBest\n",
    "selector=SelectKBest(k=50)\n",
    "X_train=selector.fit_transform(X_train,y_train)\n",
    "X_test=selector.transform(X_test)"
   ],
   "metadata": {
    "collapsed": false
   }
  },
  {
   "cell_type": "markdown",
   "source": [
    "### PCA"
   ],
   "metadata": {
    "collapsed": false
   }
  },
  {
   "cell_type": "code",
   "execution_count": null,
   "outputs": [],
   "source": [],
   "metadata": {
    "collapsed": false
   }
  },
  {
   "cell_type": "code",
   "execution_count": 11,
   "outputs": [
    {
     "data": {
      "text/plain": "           0          1    2    3    4    5    6    7    8    9    ...  \\\n0    50.000000  55.956194  0.0  0.0  0.0  1.0  3.0  2.0  1.0  1.0  ...   \n1    86.000000  69.000000  0.0  0.0  1.0  0.0  2.0  1.0  1.0  1.0  ...   \n2    31.000000  57.400000  0.0  0.0  0.0  1.0  3.0  3.0  1.0  0.0  ...   \n3    68.000000  62.000000  0.0  0.0  0.0  1.0  2.0  1.0  1.0  1.0  ...   \n4    75.583333  42.700000  0.0  0.0  0.0  1.0  3.0  3.0  1.0  0.0  ...   \n..         ...        ...  ...  ...  ...  ...  ...  ...  ...  ...  ...   \n275  43.000000  55.000000  1.0  0.0  0.0  0.0  2.0  1.0  1.0  1.0  ...   \n276  61.000000  48.000000  0.0  0.0  0.0  1.0  2.0  1.0  1.0  1.0  ...   \n277  56.083333  46.300000  0.0  0.0  0.0  1.0  2.0  2.0  1.0  0.0  ...   \n278  55.083333  58.900000  0.0  0.0  0.0  1.0  3.0  3.0  1.0  0.0  ...   \n279  53.000000  61.078713  1.0  1.0  1.0  0.0  2.0  1.0  2.0  0.0  ...   \n\n          108       109       110       111           112         113  \\\n0    0.212197  0.212197  3.277613  0.000692  1.450165e+07  342.470452   \n1    0.550507  0.550507  2.573220  0.005959  1.052641e+06   21.346044   \n2    0.122225  0.122225  1.921928  0.003720  1.665694e+05   36.235243   \n3    0.661168  0.661168  1.798795  0.001021  1.426398e+07   11.358284   \n4    0.374829  0.374829  3.201460  0.004586  1.180094e+06   53.909560   \n..        ...       ...       ...       ...           ...         ...   \n275  0.661700  0.661700  1.672933  0.001252  6.303287e+06    7.163648   \n276  0.151443  0.151443  3.175123  0.002063  2.963878e+06  123.448706   \n277  0.550730  0.550730  2.176353  0.004691  1.335551e+06   11.074256   \n278  0.235291  0.233849  2.947703  0.000975  5.464581e+06  205.821528   \n279  0.458844  0.458843  3.307746  0.004389  5.897628e+06  178.426869   \n\n          114       115       116       117  \n0    0.000971  0.129494  0.019639  0.000884  \n1    0.012082  0.024663  0.000567  0.010516  \n2    0.010167  0.146358  0.026189  0.009567  \n3    0.022155  0.005759  0.000026  0.021147  \n4    0.005069  0.062390  0.003892  0.004351  \n..        ...       ...       ...       ...  \n275  0.035187  0.006469  0.000038  0.032914  \n276  0.002424  0.100139  0.011008  0.002154  \n277  0.022918  0.013204  0.000154  0.019456  \n278  0.001657  0.130725  0.020401  0.001553  \n279  0.001489  0.043025  0.001870  0.001299  \n\n[280 rows x 118 columns]",
      "text/html": "<div>\n<style scoped>\n    .dataframe tbody tr th:only-of-type {\n        vertical-align: middle;\n    }\n\n    .dataframe tbody tr th {\n        vertical-align: top;\n    }\n\n    .dataframe thead th {\n        text-align: right;\n    }\n</style>\n<table border=\"1\" class=\"dataframe\">\n  <thead>\n    <tr style=\"text-align: right;\">\n      <th></th>\n      <th>0</th>\n      <th>1</th>\n      <th>2</th>\n      <th>3</th>\n      <th>4</th>\n      <th>5</th>\n      <th>6</th>\n      <th>7</th>\n      <th>8</th>\n      <th>9</th>\n      <th>...</th>\n      <th>108</th>\n      <th>109</th>\n      <th>110</th>\n      <th>111</th>\n      <th>112</th>\n      <th>113</th>\n      <th>114</th>\n      <th>115</th>\n      <th>116</th>\n      <th>117</th>\n    </tr>\n  </thead>\n  <tbody>\n    <tr>\n      <th>0</th>\n      <td>50.000000</td>\n      <td>55.956194</td>\n      <td>0.0</td>\n      <td>0.0</td>\n      <td>0.0</td>\n      <td>1.0</td>\n      <td>3.0</td>\n      <td>2.0</td>\n      <td>1.0</td>\n      <td>1.0</td>\n      <td>...</td>\n      <td>0.212197</td>\n      <td>0.212197</td>\n      <td>3.277613</td>\n      <td>0.000692</td>\n      <td>1.450165e+07</td>\n      <td>342.470452</td>\n      <td>0.000971</td>\n      <td>0.129494</td>\n      <td>0.019639</td>\n      <td>0.000884</td>\n    </tr>\n    <tr>\n      <th>1</th>\n      <td>86.000000</td>\n      <td>69.000000</td>\n      <td>0.0</td>\n      <td>0.0</td>\n      <td>1.0</td>\n      <td>0.0</td>\n      <td>2.0</td>\n      <td>1.0</td>\n      <td>1.0</td>\n      <td>1.0</td>\n      <td>...</td>\n      <td>0.550507</td>\n      <td>0.550507</td>\n      <td>2.573220</td>\n      <td>0.005959</td>\n      <td>1.052641e+06</td>\n      <td>21.346044</td>\n      <td>0.012082</td>\n      <td>0.024663</td>\n      <td>0.000567</td>\n      <td>0.010516</td>\n    </tr>\n    <tr>\n      <th>2</th>\n      <td>31.000000</td>\n      <td>57.400000</td>\n      <td>0.0</td>\n      <td>0.0</td>\n      <td>0.0</td>\n      <td>1.0</td>\n      <td>3.0</td>\n      <td>3.0</td>\n      <td>1.0</td>\n      <td>0.0</td>\n      <td>...</td>\n      <td>0.122225</td>\n      <td>0.122225</td>\n      <td>1.921928</td>\n      <td>0.003720</td>\n      <td>1.665694e+05</td>\n      <td>36.235243</td>\n      <td>0.010167</td>\n      <td>0.146358</td>\n      <td>0.026189</td>\n      <td>0.009567</td>\n    </tr>\n    <tr>\n      <th>3</th>\n      <td>68.000000</td>\n      <td>62.000000</td>\n      <td>0.0</td>\n      <td>0.0</td>\n      <td>0.0</td>\n      <td>1.0</td>\n      <td>2.0</td>\n      <td>1.0</td>\n      <td>1.0</td>\n      <td>1.0</td>\n      <td>...</td>\n      <td>0.661168</td>\n      <td>0.661168</td>\n      <td>1.798795</td>\n      <td>0.001021</td>\n      <td>1.426398e+07</td>\n      <td>11.358284</td>\n      <td>0.022155</td>\n      <td>0.005759</td>\n      <td>0.000026</td>\n      <td>0.021147</td>\n    </tr>\n    <tr>\n      <th>4</th>\n      <td>75.583333</td>\n      <td>42.700000</td>\n      <td>0.0</td>\n      <td>0.0</td>\n      <td>0.0</td>\n      <td>1.0</td>\n      <td>3.0</td>\n      <td>3.0</td>\n      <td>1.0</td>\n      <td>0.0</td>\n      <td>...</td>\n      <td>0.374829</td>\n      <td>0.374829</td>\n      <td>3.201460</td>\n      <td>0.004586</td>\n      <td>1.180094e+06</td>\n      <td>53.909560</td>\n      <td>0.005069</td>\n      <td>0.062390</td>\n      <td>0.003892</td>\n      <td>0.004351</td>\n    </tr>\n    <tr>\n      <th>...</th>\n      <td>...</td>\n      <td>...</td>\n      <td>...</td>\n      <td>...</td>\n      <td>...</td>\n      <td>...</td>\n      <td>...</td>\n      <td>...</td>\n      <td>...</td>\n      <td>...</td>\n      <td>...</td>\n      <td>...</td>\n      <td>...</td>\n      <td>...</td>\n      <td>...</td>\n      <td>...</td>\n      <td>...</td>\n      <td>...</td>\n      <td>...</td>\n      <td>...</td>\n      <td>...</td>\n    </tr>\n    <tr>\n      <th>275</th>\n      <td>43.000000</td>\n      <td>55.000000</td>\n      <td>1.0</td>\n      <td>0.0</td>\n      <td>0.0</td>\n      <td>0.0</td>\n      <td>2.0</td>\n      <td>1.0</td>\n      <td>1.0</td>\n      <td>1.0</td>\n      <td>...</td>\n      <td>0.661700</td>\n      <td>0.661700</td>\n      <td>1.672933</td>\n      <td>0.001252</td>\n      <td>6.303287e+06</td>\n      <td>7.163648</td>\n      <td>0.035187</td>\n      <td>0.006469</td>\n      <td>0.000038</td>\n      <td>0.032914</td>\n    </tr>\n    <tr>\n      <th>276</th>\n      <td>61.000000</td>\n      <td>48.000000</td>\n      <td>0.0</td>\n      <td>0.0</td>\n      <td>0.0</td>\n      <td>1.0</td>\n      <td>2.0</td>\n      <td>1.0</td>\n      <td>1.0</td>\n      <td>1.0</td>\n      <td>...</td>\n      <td>0.151443</td>\n      <td>0.151443</td>\n      <td>3.175123</td>\n      <td>0.002063</td>\n      <td>2.963878e+06</td>\n      <td>123.448706</td>\n      <td>0.002424</td>\n      <td>0.100139</td>\n      <td>0.011008</td>\n      <td>0.002154</td>\n    </tr>\n    <tr>\n      <th>277</th>\n      <td>56.083333</td>\n      <td>46.300000</td>\n      <td>0.0</td>\n      <td>0.0</td>\n      <td>0.0</td>\n      <td>1.0</td>\n      <td>2.0</td>\n      <td>2.0</td>\n      <td>1.0</td>\n      <td>0.0</td>\n      <td>...</td>\n      <td>0.550730</td>\n      <td>0.550730</td>\n      <td>2.176353</td>\n      <td>0.004691</td>\n      <td>1.335551e+06</td>\n      <td>11.074256</td>\n      <td>0.022918</td>\n      <td>0.013204</td>\n      <td>0.000154</td>\n      <td>0.019456</td>\n    </tr>\n    <tr>\n      <th>278</th>\n      <td>55.083333</td>\n      <td>58.900000</td>\n      <td>0.0</td>\n      <td>0.0</td>\n      <td>0.0</td>\n      <td>1.0</td>\n      <td>3.0</td>\n      <td>3.0</td>\n      <td>1.0</td>\n      <td>0.0</td>\n      <td>...</td>\n      <td>0.235291</td>\n      <td>0.233849</td>\n      <td>2.947703</td>\n      <td>0.000975</td>\n      <td>5.464581e+06</td>\n      <td>205.821528</td>\n      <td>0.001657</td>\n      <td>0.130725</td>\n      <td>0.020401</td>\n      <td>0.001553</td>\n    </tr>\n    <tr>\n      <th>279</th>\n      <td>53.000000</td>\n      <td>61.078713</td>\n      <td>1.0</td>\n      <td>1.0</td>\n      <td>1.0</td>\n      <td>0.0</td>\n      <td>2.0</td>\n      <td>1.0</td>\n      <td>2.0</td>\n      <td>0.0</td>\n      <td>...</td>\n      <td>0.458844</td>\n      <td>0.458843</td>\n      <td>3.307746</td>\n      <td>0.004389</td>\n      <td>5.897628e+06</td>\n      <td>178.426869</td>\n      <td>0.001489</td>\n      <td>0.043025</td>\n      <td>0.001870</td>\n      <td>0.001299</td>\n    </tr>\n  </tbody>\n</table>\n<p>280 rows × 118 columns</p>\n</div>"
     },
     "execution_count": 11,
     "metadata": {},
     "output_type": "execute_result"
    }
   ],
   "source": [
    "\n",
    "# c=dataset.corr().abs()\n",
    "# s=c.unstack()\n",
    "# so=s.sort_values(kind=\"quicksort\")\n",
    "\n",
    "\n",
    "\n",
    "\n",
    "\n",
    "# delcol=[]\n",
    "# c=dataset.corr().shape[0]\n",
    "\n",
    "# names=dataset.corr().columns\n",
    "#\n",
    "# for i in range(c):\n",
    "#     for j in range(i+1,c):\n",
    "#         if dataset.corr().iloc[i,j]>0.8 :\n",
    "#             delcol.append((names[i],names[j]))\n",
    "# print(len(delcol))\n",
    "#\n",
    "# import numpy as np\n",
    "# np.a\n",
    "#\n",
    "# for i in range(c):\n",
    "#     count = 0\n",
    "#     for j in range(c):\n",
    "#         if dataset.corr().iloc[i,j]>0.8:\n",
    "#             count += 1\n",
    "\n",
    "\n",
    "\n"
   ],
   "metadata": {
    "collapsed": false
   }
  },
  {
   "cell_type": "markdown",
   "source": [
    "# Feature Preprocession"
   ],
   "metadata": {
    "collapsed": false
   }
  },
  {
   "cell_type": "code",
   "execution_count": null,
   "outputs": [],
   "source": [],
   "metadata": {
    "collapsed": false
   }
  },
  {
   "cell_type": "markdown",
   "source": [
    "# Methods"
   ],
   "metadata": {
    "collapsed": false
   }
  },
  {
   "cell_type": "code",
   "execution_count": null,
   "outputs": [],
   "source": [],
   "metadata": {
    "collapsed": false
   }
  }
 ],
 "metadata": {
  "kernelspec": {
   "display_name": "Python 3.7.13 ('mle_tf')",
   "language": "python",
   "name": "python3"
  },
  "language_info": {
   "name": "python",
   "version": "3.7.13"
  },
  "orig_nbformat": 4,
  "vscode": {
   "interpreter": {
    "hash": "059a28f6b8501a3f1855ad600b68ec92fe1ad87b13ae8c63d8d57e238add6b4b"
   }
  }
 },
 "nbformat": 4,
 "nbformat_minor": 2
}
